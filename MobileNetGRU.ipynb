{
 "cells": [
  {
   "cell_type": "code",
   "execution_count": 1,
   "id": "61001dc3",
   "metadata": {
    "_cell_guid": "b1076dfc-b9ad-4769-8c92-a6c4dae69d19",
    "_uuid": "8f2839f25d086af736a60e9eeb907d3b93b6e0e5",
    "execution": {
     "iopub.execute_input": "2024-06-13T22:50:13.259037Z",
     "iopub.status.busy": "2024-06-13T22:50:13.258713Z",
     "iopub.status.idle": "2024-06-13T22:50:21.259038Z",
     "shell.execute_reply": "2024-06-13T22:50:21.258216Z"
    },
    "papermill": {
     "duration": 8.01176,
     "end_time": "2024-06-13T22:50:21.261476",
     "exception": false,
     "start_time": "2024-06-13T22:50:13.249716",
     "status": "completed"
    },
    "tags": []
   },
   "outputs": [],
   "source": [
    "import os\n",
    "import cv2\n",
    "import torch\n",
    "import torch.nn as nn\n",
    "import torch.optim as optim\n",
    "from torchvision import models, transforms\n",
    "from torch.utils.data import DataLoader, Dataset\n",
    "from sklearn.model_selection import train_test_split\n",
    "import matplotlib.pyplot as plt"
   ]
  },
  {
   "cell_type": "markdown",
   "id": "7ca70b33",
   "metadata": {
    "papermill": {
     "duration": 0.007247,
     "end_time": "2024-06-13T22:50:21.276653",
     "exception": false,
     "start_time": "2024-06-13T22:50:21.269406",
     "status": "completed"
    },
    "tags": []
   },
   "source": [
    "# Parameters"
   ]
  },
  {
   "cell_type": "code",
   "execution_count": 2,
   "id": "b99a67a5",
   "metadata": {
    "execution": {
     "iopub.execute_input": "2024-06-13T22:50:21.292978Z",
     "iopub.status.busy": "2024-06-13T22:50:21.292575Z",
     "iopub.status.idle": "2024-06-13T22:50:21.297481Z",
     "shell.execute_reply": "2024-06-13T22:50:21.296486Z"
    },
    "papermill": {
     "duration": 0.015483,
     "end_time": "2024-06-13T22:50:21.299612",
     "exception": false,
     "start_time": "2024-06-13T22:50:21.284129",
     "status": "completed"
    },
    "tags": []
   },
   "outputs": [],
   "source": [
    "img_height, img_width = 224, 224\n",
    "batch_size = 16\n",
    "epochs = 10\n",
    "learning_rate = 0.001\n",
    "sequence_length = 10  # Number of frames to consider in each sequence\n",
    "dataset_path = '/kaggle/input/real-life-violence-situations-dataset/Real Life Violence Dataset'"
   ]
  },
  {
   "cell_type": "markdown",
   "id": "c69c909a",
   "metadata": {
    "papermill": {
     "duration": 0.007305,
     "end_time": "2024-06-13T22:50:21.314552",
     "exception": false,
     "start_time": "2024-06-13T22:50:21.307247",
     "status": "completed"
    },
    "tags": []
   },
   "source": [
    "# Device configuration"
   ]
  },
  {
   "cell_type": "code",
   "execution_count": 3,
   "id": "5c849a8e",
   "metadata": {
    "execution": {
     "iopub.execute_input": "2024-06-13T22:50:21.330998Z",
     "iopub.status.busy": "2024-06-13T22:50:21.330685Z",
     "iopub.status.idle": "2024-06-13T22:50:21.410229Z",
     "shell.execute_reply": "2024-06-13T22:50:21.409334Z"
    },
    "papermill": {
     "duration": 0.090175,
     "end_time": "2024-06-13T22:50:21.412302",
     "exception": false,
     "start_time": "2024-06-13T22:50:21.322127",
     "status": "completed"
    },
    "tags": []
   },
   "outputs": [],
   "source": [
    "device = torch.device('cuda' if torch.cuda.is_available() else 'cpu')"
   ]
  },
  {
   "cell_type": "code",
   "execution_count": 4,
   "id": "9ce079be",
   "metadata": {
    "execution": {
     "iopub.execute_input": "2024-06-13T22:50:21.428734Z",
     "iopub.status.busy": "2024-06-13T22:50:21.428428Z",
     "iopub.status.idle": "2024-06-13T22:50:21.441657Z",
     "shell.execute_reply": "2024-06-13T22:50:21.440736Z"
    },
    "papermill": {
     "duration": 0.023509,
     "end_time": "2024-06-13T22:50:21.443544",
     "exception": false,
     "start_time": "2024-06-13T22:50:21.420035",
     "status": "completed"
    },
    "tags": []
   },
   "outputs": [
    {
     "name": "stdout",
     "output_type": "stream",
     "text": [
      "cuda\n"
     ]
    }
   ],
   "source": [
    "print(device)"
   ]
  },
  {
   "cell_type": "markdown",
   "id": "6ad59241",
   "metadata": {
    "papermill": {
     "duration": 0.008287,
     "end_time": "2024-06-13T22:50:21.459866",
     "exception": false,
     "start_time": "2024-06-13T22:50:21.451579",
     "status": "completed"
    },
    "tags": []
   },
   "source": [
    "# transformations"
   ]
  },
  {
   "cell_type": "code",
   "execution_count": 5,
   "id": "869db6ca",
   "metadata": {
    "execution": {
     "iopub.execute_input": "2024-06-13T22:50:21.475863Z",
     "iopub.status.busy": "2024-06-13T22:50:21.475578Z",
     "iopub.status.idle": "2024-06-13T22:50:21.480690Z",
     "shell.execute_reply": "2024-06-13T22:50:21.479779Z"
    },
    "papermill": {
     "duration": 0.015396,
     "end_time": "2024-06-13T22:50:21.482668",
     "exception": false,
     "start_time": "2024-06-13T22:50:21.467272",
     "status": "completed"
    },
    "tags": []
   },
   "outputs": [],
   "source": [
    "data_transforms = transforms.Compose([\n",
    "    transforms.ToPILImage(),\n",
    "    transforms.Resize((img_height, img_width)),\n",
    "    transforms.ToTensor(),\n",
    "    transforms.Normalize([0.485, 0.456, 0.406], [0.229, 0.224, 0.225])\n",
    "])"
   ]
  },
  {
   "cell_type": "markdown",
   "id": "5720acdb",
   "metadata": {
    "papermill": {
     "duration": 0.007497,
     "end_time": "2024-06-13T22:50:21.497858",
     "exception": false,
     "start_time": "2024-06-13T22:50:21.490361",
     "status": "completed"
    },
    "tags": []
   },
   "source": [
    "# extract frames from a video"
   ]
  },
  {
   "cell_type": "code",
   "execution_count": 6,
   "id": "d2ee20ec",
   "metadata": {
    "execution": {
     "iopub.execute_input": "2024-06-13T22:50:21.514293Z",
     "iopub.status.busy": "2024-06-13T22:50:21.513483Z",
     "iopub.status.idle": "2024-06-13T22:50:21.521226Z",
     "shell.execute_reply": "2024-06-13T22:50:21.520349Z"
    },
    "papermill": {
     "duration": 0.017808,
     "end_time": "2024-06-13T22:50:21.523087",
     "exception": false,
     "start_time": "2024-06-13T22:50:21.505279",
     "status": "completed"
    },
    "tags": []
   },
   "outputs": [],
   "source": [
    "def extract_frames(video_path, sequence_length, interval=10):\n",
    "    cap = cv2.VideoCapture(video_path)\n",
    "    frames = []\n",
    "    frame_count = 0\n",
    "    while len(frames) < sequence_length:\n",
    "        ret, frame = cap.read()\n",
    "        if not ret:\n",
    "            break\n",
    "        if frame_count % interval == 0:\n",
    "            frame = cv2.resize(frame, (img_height, img_width))\n",
    "            frames.append(frame)\n",
    "        frame_count += 1\n",
    "    cap.release()\n",
    "\n",
    "    # Handle cases where there are fewer frames than sequence_length\n",
    "    if len(frames) < sequence_length:\n",
    "        while len(frames) < sequence_length:\n",
    "            frames.append(frames[-1] if frames else cv2.resize(np.zeros((img_height, img_width, 3), dtype=np.uint8), (img_height, img_width)))\n",
    "    else:\n",
    "        frames = frames[:sequence_length]\n",
    "\n",
    "    return frames"
   ]
  },
  {
   "cell_type": "markdown",
   "id": "6a1141e1",
   "metadata": {
    "papermill": {
     "duration": 0.007441,
     "end_time": "2024-06-13T22:50:21.537907",
     "exception": false,
     "start_time": "2024-06-13T22:50:21.530466",
     "status": "completed"
    },
    "tags": []
   },
   "source": [
    "# Dataset"
   ]
  },
  {
   "cell_type": "code",
   "execution_count": 7,
   "id": "73f663b5",
   "metadata": {
    "execution": {
     "iopub.execute_input": "2024-06-13T22:50:21.554458Z",
     "iopub.status.busy": "2024-06-13T22:50:21.554166Z",
     "iopub.status.idle": "2024-06-13T22:50:21.560731Z",
     "shell.execute_reply": "2024-06-13T22:50:21.559829Z"
    },
    "papermill": {
     "duration": 0.017397,
     "end_time": "2024-06-13T22:50:21.562683",
     "exception": false,
     "start_time": "2024-06-13T22:50:21.545286",
     "status": "completed"
    },
    "tags": []
   },
   "outputs": [],
   "source": [
    "class VideoDataset(Dataset):\n",
    "    def __init__(self, video_files, labels, transform=None, sequence_length=10):\n",
    "        self.video_files = video_files\n",
    "        self.labels = labels\n",
    "        self.transform = transform\n",
    "        self.sequence_length = sequence_length\n",
    "\n",
    "    def __len__(self):\n",
    "        return len(self.video_files)\n",
    "\n",
    "    def __getitem__(self, idx):\n",
    "        frames = extract_frames(self.video_files[idx], self.sequence_length)\n",
    "        if self.transform:\n",
    "            frames = [self.transform(frame) for frame in frames]\n",
    "        label = self.labels[idx]\n",
    "        return torch.stack(frames), label"
   ]
  },
  {
   "cell_type": "markdown",
   "id": "45c1def3",
   "metadata": {
    "papermill": {
     "duration": 0.008039,
     "end_time": "2024-06-13T22:50:21.578363",
     "exception": false,
     "start_time": "2024-06-13T22:50:21.570324",
     "status": "completed"
    },
    "tags": []
   },
   "source": [
    "# Load dataset"
   ]
  },
  {
   "cell_type": "code",
   "execution_count": 8,
   "id": "b5850a0c",
   "metadata": {
    "execution": {
     "iopub.execute_input": "2024-06-13T22:50:21.596154Z",
     "iopub.status.busy": "2024-06-13T22:50:21.595651Z",
     "iopub.status.idle": "2024-06-13T22:50:21.601805Z",
     "shell.execute_reply": "2024-06-13T22:50:21.600657Z"
    },
    "papermill": {
     "duration": 0.018204,
     "end_time": "2024-06-13T22:50:21.603862",
     "exception": false,
     "start_time": "2024-06-13T22:50:21.585658",
     "status": "completed"
    },
    "tags": []
   },
   "outputs": [],
   "source": [
    "def load_dataset(dataset_path):\n",
    "    video_files = []\n",
    "    labels = []\n",
    "    classes = os.listdir(dataset_path)\n",
    "    for label, class_name in enumerate(classes):\n",
    "        class_path = os.path.join(dataset_path, class_name)\n",
    "        videos = os.listdir(class_path)\n",
    "        for video_name in videos:\n",
    "            video_path = os.path.join(class_path, video_name)\n",
    "            video_files.append(video_path)\n",
    "            labels.append(label)\n",
    "    return video_files, labels"
   ]
  },
  {
   "cell_type": "markdown",
   "id": "26e2ff31",
   "metadata": {
    "papermill": {
     "duration": 0.00791,
     "end_time": "2024-06-13T22:50:21.619823",
     "exception": false,
     "start_time": "2024-06-13T22:50:21.611913",
     "status": "completed"
    },
    "tags": []
   },
   "source": [
    "# Split"
   ]
  },
  {
   "cell_type": "code",
   "execution_count": 9,
   "id": "e4d6a067",
   "metadata": {
    "execution": {
     "iopub.execute_input": "2024-06-13T22:50:21.636575Z",
     "iopub.status.busy": "2024-06-13T22:50:21.636294Z",
     "iopub.status.idle": "2024-06-13T22:50:21.858119Z",
     "shell.execute_reply": "2024-06-13T22:50:21.857242Z"
    },
    "papermill": {
     "duration": 0.233093,
     "end_time": "2024-06-13T22:50:21.860661",
     "exception": false,
     "start_time": "2024-06-13T22:50:21.627568",
     "status": "completed"
    },
    "tags": []
   },
   "outputs": [],
   "source": [
    "video_files, labels = load_dataset(dataset_path)\n",
    "train_videos, temp_videos, train_labels, temp_labels = train_test_split(video_files, labels, test_size=0.3, random_state=42)\n",
    "val_videos, test_videos, val_labels, test_labels = train_test_split(temp_videos, temp_labels, test_size=0.5, random_state=42)"
   ]
  },
  {
   "cell_type": "code",
   "execution_count": 10,
   "id": "39cacd0c",
   "metadata": {
    "execution": {
     "iopub.execute_input": "2024-06-13T22:50:21.877848Z",
     "iopub.status.busy": "2024-06-13T22:50:21.877370Z",
     "iopub.status.idle": "2024-06-13T22:50:21.882067Z",
     "shell.execute_reply": "2024-06-13T22:50:21.881215Z"
    },
    "papermill": {
     "duration": 0.014671,
     "end_time": "2024-06-13T22:50:21.883802",
     "exception": false,
     "start_time": "2024-06-13T22:50:21.869131",
     "status": "completed"
    },
    "tags": []
   },
   "outputs": [],
   "source": [
    "train_dataset = VideoDataset(train_videos, train_labels, transform=data_transforms, sequence_length=sequence_length)\n",
    "val_dataset = VideoDataset(val_videos, val_labels, transform=data_transforms, sequence_length=sequence_length)\n",
    "test_dataset = VideoDataset(test_videos, test_labels, transform=data_transforms, sequence_length=sequence_length)"
   ]
  },
  {
   "cell_type": "markdown",
   "id": "bbef45bd",
   "metadata": {
    "papermill": {
     "duration": 0.007191,
     "end_time": "2024-06-13T22:50:21.898192",
     "exception": false,
     "start_time": "2024-06-13T22:50:21.891001",
     "status": "completed"
    },
    "tags": []
   },
   "source": [
    "# DataLoader"
   ]
  },
  {
   "cell_type": "code",
   "execution_count": 11,
   "id": "3a08d6eb",
   "metadata": {
    "execution": {
     "iopub.execute_input": "2024-06-13T22:50:21.914034Z",
     "iopub.status.busy": "2024-06-13T22:50:21.913732Z",
     "iopub.status.idle": "2024-06-13T22:50:21.918635Z",
     "shell.execute_reply": "2024-06-13T22:50:21.917740Z"
    },
    "papermill": {
     "duration": 0.015153,
     "end_time": "2024-06-13T22:50:21.920631",
     "exception": false,
     "start_time": "2024-06-13T22:50:21.905478",
     "status": "completed"
    },
    "tags": []
   },
   "outputs": [],
   "source": [
    "train_loader = DataLoader(train_dataset, batch_size=batch_size, shuffle=True, num_workers=4)\n",
    "val_loader = DataLoader(val_dataset, batch_size=batch_size, shuffle=False, num_workers=4)\n",
    "test_loader = DataLoader(test_dataset, batch_size=batch_size, shuffle=False, num_workers=4)"
   ]
  },
  {
   "cell_type": "markdown",
   "id": "f1741965",
   "metadata": {
    "papermill": {
     "duration": 0.007056,
     "end_time": "2024-06-13T22:50:21.934916",
     "exception": false,
     "start_time": "2024-06-13T22:50:21.927860",
     "status": "completed"
    },
    "tags": []
   },
   "source": [
    "# Model"
   ]
  },
  {
   "cell_type": "code",
   "execution_count": 12,
   "id": "a8186e63",
   "metadata": {
    "execution": {
     "iopub.execute_input": "2024-06-13T22:50:21.950516Z",
     "iopub.status.busy": "2024-06-13T22:50:21.950259Z",
     "iopub.status.idle": "2024-06-13T22:50:21.959019Z",
     "shell.execute_reply": "2024-06-13T22:50:21.958342Z"
    },
    "papermill": {
     "duration": 0.018791,
     "end_time": "2024-06-13T22:50:21.960936",
     "exception": false,
     "start_time": "2024-06-13T22:50:21.942145",
     "status": "completed"
    },
    "tags": []
   },
   "outputs": [],
   "source": [
    "class MobileNetGRU(nn.Module):\n",
    "    def __init__(self, hidden_dim, num_classes, num_layers=1):\n",
    "        super(MobileNetGRU, self).__init__()\n",
    "        self.hidden_dim = hidden_dim\n",
    "        self.num_layers = num_layers\n",
    "\n",
    "        # Load pre-trained MobileNetV2\n",
    "        self.mobilenet = models.mobilenet_v2(weights=models.MobileNet_V2_Weights.DEFAULT)\n",
    "        self.mobilenet.classifier = nn.Identity()  # Remove the last fully connected layer\n",
    "\n",
    "        # GRU\n",
    "        self.gru = nn.GRU(input_size=1280, hidden_size=hidden_dim, num_layers=num_layers, batch_first=True)\n",
    "\n",
    "        # Fully connected layer for classification\n",
    "        self.fc = nn.Linear(hidden_dim, num_classes)\n",
    "\n",
    "    def forward(self, x):\n",
    "        batch_size, seq_length, c, h, w = x.size()\n",
    "\n",
    "        # Reshape to (batch_size * seq_length, c, h, w) to feed each frame into MobileNet\n",
    "        x = x.view(batch_size * seq_length, c, h, w)\n",
    "        with torch.no_grad():\n",
    "            x = self.mobilenet(x)\n",
    "        \n",
    "        # Reshape back to (batch_size, seq_length, 1280) to feed into GRU\n",
    "        x = x.view(batch_size, seq_length, -1)\n",
    "\n",
    "        # GRU\n",
    "        h0 = torch.zeros(self.num_layers, batch_size, self.hidden_dim).to(x.device)\n",
    "        x, _ = self.gru(x, h0)\n",
    "\n",
    "        # Classification\n",
    "        x = self.fc(x[:, -1, :])  # Use the output of the last GRU cell\n",
    "\n",
    "        return x"
   ]
  },
  {
   "cell_type": "code",
   "execution_count": 13,
   "id": "ad341734",
   "metadata": {
    "execution": {
     "iopub.execute_input": "2024-06-13T22:50:21.976670Z",
     "iopub.status.busy": "2024-06-13T22:50:21.976412Z",
     "iopub.status.idle": "2024-06-13T22:50:22.790413Z",
     "shell.execute_reply": "2024-06-13T22:50:22.789383Z"
    },
    "papermill": {
     "duration": 0.824524,
     "end_time": "2024-06-13T22:50:22.792876",
     "exception": false,
     "start_time": "2024-06-13T22:50:21.968352",
     "status": "completed"
    },
    "tags": []
   },
   "outputs": [
    {
     "name": "stderr",
     "output_type": "stream",
     "text": [
      "Downloading: \"https://download.pytorch.org/models/mobilenet_v2-7ebf99e0.pth\" to /root/.cache/torch/hub/checkpoints/mobilenet_v2-7ebf99e0.pth\n",
      "100%|██████████| 13.6M/13.6M [00:00<00:00, 96.0MB/s]\n"
     ]
    }
   ],
   "source": [
    "hidden_dim = 512\n",
    "num_classes = 2\n",
    "model = MobileNetGRU(hidden_dim, num_classes).to(device)"
   ]
  },
  {
   "cell_type": "markdown",
   "id": "13b8c8a0",
   "metadata": {
    "papermill": {
     "duration": 0.008153,
     "end_time": "2024-06-13T22:50:22.809524",
     "exception": false,
     "start_time": "2024-06-13T22:50:22.801371",
     "status": "completed"
    },
    "tags": []
   },
   "source": [
    "# loss function and optimizer"
   ]
  },
  {
   "cell_type": "code",
   "execution_count": 14,
   "id": "bf793beb",
   "metadata": {
    "execution": {
     "iopub.execute_input": "2024-06-13T22:50:22.827499Z",
     "iopub.status.busy": "2024-06-13T22:50:22.827183Z",
     "iopub.status.idle": "2024-06-13T22:50:22.833023Z",
     "shell.execute_reply": "2024-06-13T22:50:22.832109Z"
    },
    "papermill": {
     "duration": 0.017196,
     "end_time": "2024-06-13T22:50:22.834876",
     "exception": false,
     "start_time": "2024-06-13T22:50:22.817680",
     "status": "completed"
    },
    "tags": []
   },
   "outputs": [],
   "source": [
    "criterion = nn.CrossEntropyLoss()\n",
    "optimizer = optim.Adam(model.parameters(), lr=learning_rate)"
   ]
  },
  {
   "cell_type": "markdown",
   "id": "268414de",
   "metadata": {
    "papermill": {
     "duration": 0.007677,
     "end_time": "2024-06-13T22:50:22.850387",
     "exception": false,
     "start_time": "2024-06-13T22:50:22.842710",
     "status": "completed"
    },
    "tags": []
   },
   "source": [
    "# Training "
   ]
  },
  {
   "cell_type": "code",
   "execution_count": 15,
   "id": "94064579",
   "metadata": {
    "execution": {
     "iopub.execute_input": "2024-06-13T22:50:22.867238Z",
     "iopub.status.busy": "2024-06-13T22:50:22.866935Z",
     "iopub.status.idle": "2024-06-13T22:50:22.879299Z",
     "shell.execute_reply": "2024-06-13T22:50:22.878195Z"
    },
    "papermill": {
     "duration": 0.023111,
     "end_time": "2024-06-13T22:50:22.881358",
     "exception": false,
     "start_time": "2024-06-13T22:50:22.858247",
     "status": "completed"
    },
    "tags": []
   },
   "outputs": [],
   "source": [
    "def train_model(model, criterion, optimizer, train_loader, val_loader, num_epochs=25):\n",
    "    train_loss_history = []\n",
    "    train_acc_history = []\n",
    "    val_loss_history = []\n",
    "    val_acc_history = []\n",
    "\n",
    "    for epoch in range(num_epochs):\n",
    "        model.train()\n",
    "        running_loss = 0.0\n",
    "        running_corrects = 0\n",
    "\n",
    "        for inputs, labels in train_loader:\n",
    "            inputs = inputs.to(device)\n",
    "            labels = labels.to(device)\n",
    "\n",
    "            optimizer.zero_grad()\n",
    "\n",
    "            outputs = model(inputs)\n",
    "            _, preds = torch.max(outputs, 1)\n",
    "            loss = criterion(outputs, labels)\n",
    "\n",
    "            loss.backward()\n",
    "            optimizer.step()\n",
    "\n",
    "            running_loss += loss.item() * inputs.size(0)\n",
    "            running_corrects += torch.sum(preds == labels.data)\n",
    "\n",
    "        epoch_loss = running_loss / len(train_loader.dataset)\n",
    "        epoch_acc = running_corrects.double() / len(train_loader.dataset)\n",
    "        train_loss_history.append(epoch_loss)\n",
    "        train_acc_history.append(epoch_acc.item())\n",
    "\n",
    "        # Validation phase\n",
    "        model.eval()\n",
    "        val_running_loss = 0.0\n",
    "        val_running_corrects = 0\n",
    "\n",
    "        with torch.no_grad():\n",
    "            for inputs, labels in val_loader:\n",
    "                inputs = inputs.to(device)\n",
    "                labels = labels.to(device)\n",
    "\n",
    "                outputs = model(inputs)\n",
    "                _, preds = torch.max(outputs, 1)\n",
    "                loss = criterion(outputs, labels)\n",
    "\n",
    "                val_running_loss += loss.item() * inputs.size(0)\n",
    "                val_running_corrects += torch.sum(preds == labels.data)\n",
    "\n",
    "        val_epoch_loss = val_running_loss / len(val_loader.dataset)\n",
    "        val_epoch_acc = val_running_corrects.double() / len(val_loader.dataset)\n",
    "        val_loss_history.append(val_epoch_loss)\n",
    "        val_acc_history.append(val_epoch_acc.item())\n",
    "\n",
    "        print(f'Epoch {epoch}/{num_epochs}, Loss: {epoch_loss:.4f}, Acc: {epoch_acc:.4f}, Val Loss: {val_epoch_loss:.4f}, Val Acc: {val_epoch_acc:.4f}')\n",
    "\n",
    "    return model, train_loss_history, train_acc_history, val_loss_history, val_acc_history"
   ]
  },
  {
   "cell_type": "code",
   "execution_count": 16,
   "id": "e48fc48b",
   "metadata": {
    "execution": {
     "iopub.execute_input": "2024-06-13T22:50:22.898334Z",
     "iopub.status.busy": "2024-06-13T22:50:22.898072Z",
     "iopub.status.idle": "2024-06-13T23:10:18.865135Z",
     "shell.execute_reply": "2024-06-13T23:10:18.863646Z"
    },
    "papermill": {
     "duration": 1195.978292,
     "end_time": "2024-06-13T23:10:18.867862",
     "exception": false,
     "start_time": "2024-06-13T22:50:22.889570",
     "status": "completed"
    },
    "tags": []
   },
   "outputs": [
    {
     "name": "stderr",
     "output_type": "stream",
     "text": [
      "[h264 @ 0x572f3ad8e580] mb_type 104 in P slice too large at 98 31\n",
      "[h264 @ 0x572f3ad8e580] error while decoding MB 98 31\n"
     ]
    },
    {
     "name": "stdout",
     "output_type": "stream",
     "text": [
      "Epoch 0/10, Loss: 0.3528, Acc: 0.8350, Val Loss: 0.1337, Val Acc: 0.9500\n"
     ]
    },
    {
     "name": "stderr",
     "output_type": "stream",
     "text": [
      "[h264 @ 0x572f3b12c400] mb_type 104 in P slice too large at 98 31\n",
      "[h264 @ 0x572f3b12c400] error while decoding MB 98 31\n"
     ]
    },
    {
     "name": "stdout",
     "output_type": "stream",
     "text": [
      "Epoch 1/10, Loss: 0.2154, Acc: 0.9121, Val Loss: 0.0964, Val Acc: 0.9767\n"
     ]
    },
    {
     "name": "stderr",
     "output_type": "stream",
     "text": [
      "[h264 @ 0x572f3ceded80] mb_type 104 in P slice too large at 98 31\n",
      "[h264 @ 0x572f3ceded80] error while decoding MB 98 31\n"
     ]
    },
    {
     "name": "stdout",
     "output_type": "stream",
     "text": [
      "Epoch 2/10, Loss: 0.1807, Acc: 0.9321, Val Loss: 0.1459, Val Acc: 0.9367\n"
     ]
    },
    {
     "name": "stderr",
     "output_type": "stream",
     "text": [
      "[h264 @ 0x572f3d11f3c0] mb_type 104 in P slice too large at 98 31\n",
      "[h264 @ 0x572f3d11f3c0] error while decoding MB 98 31\n"
     ]
    },
    {
     "name": "stdout",
     "output_type": "stream",
     "text": [
      "Epoch 3/10, Loss: 0.1287, Acc: 0.9486, Val Loss: 0.0964, Val Acc: 0.9667\n"
     ]
    },
    {
     "name": "stderr",
     "output_type": "stream",
     "text": [
      "[h264 @ 0x572f3d11f840] mb_type 104 in P slice too large at 98 31\n",
      "[h264 @ 0x572f3d11f840] error while decoding MB 98 31\n"
     ]
    },
    {
     "name": "stdout",
     "output_type": "stream",
     "text": [
      "Epoch 4/10, Loss: 0.0961, Acc: 0.9579, Val Loss: 0.1136, Val Acc: 0.9500\n"
     ]
    },
    {
     "name": "stderr",
     "output_type": "stream",
     "text": [
      "[h264 @ 0x572f3b098740] mb_type 104 in P slice too large at 98 31\n",
      "[h264 @ 0x572f3b098740] error while decoding MB 98 31\n"
     ]
    },
    {
     "name": "stdout",
     "output_type": "stream",
     "text": [
      "Epoch 5/10, Loss: 0.0576, Acc: 0.9779, Val Loss: 0.0725, Val Acc: 0.9667\n"
     ]
    },
    {
     "name": "stderr",
     "output_type": "stream",
     "text": [
      "[h264 @ 0x572f3d0e2640] mb_type 104 in P slice too large at 98 31\n",
      "[h264 @ 0x572f3d0e2640] error while decoding MB 98 31\n"
     ]
    },
    {
     "name": "stdout",
     "output_type": "stream",
     "text": [
      "Epoch 6/10, Loss: 0.0799, Acc: 0.9700, Val Loss: 0.1231, Val Acc: 0.9533\n"
     ]
    },
    {
     "name": "stderr",
     "output_type": "stream",
     "text": [
      "[h264 @ 0x572f3b11fe80] mb_type 104 in P slice too large at 98 31\n",
      "[h264 @ 0x572f3b11fe80] error while decoding MB 98 31\n"
     ]
    },
    {
     "name": "stdout",
     "output_type": "stream",
     "text": [
      "Epoch 7/10, Loss: 0.0496, Acc: 0.9836, Val Loss: 0.0975, Val Acc: 0.9600\n"
     ]
    },
    {
     "name": "stderr",
     "output_type": "stream",
     "text": [
      "[h264 @ 0x572f3d0e2ac0] mb_type 104 in P slice too large at 98 31\n",
      "[h264 @ 0x572f3d0e2ac0] error while decoding MB 98 31\n"
     ]
    },
    {
     "name": "stdout",
     "output_type": "stream",
     "text": [
      "Epoch 8/10, Loss: 0.0417, Acc: 0.9879, Val Loss: 0.0798, Val Acc: 0.9667\n"
     ]
    },
    {
     "name": "stderr",
     "output_type": "stream",
     "text": [
      "[h264 @ 0x572f3cf02740] mb_type 104 in P slice too large at 98 31\n",
      "[h264 @ 0x572f3cf02740] error while decoding MB 98 31\n"
     ]
    },
    {
     "name": "stdout",
     "output_type": "stream",
     "text": [
      "Epoch 9/10, Loss: 0.0592, Acc: 0.9800, Val Loss: 0.0802, Val Acc: 0.9767\n"
     ]
    }
   ],
   "source": [
    "model, train_loss_history, train_acc_history, val_loss_history, val_acc_history = train_model(model, criterion, optimizer, train_loader, val_loader, epochs)"
   ]
  },
  {
   "cell_type": "markdown",
   "id": "e19f8935",
   "metadata": {
    "papermill": {
     "duration": 0.010746,
     "end_time": "2024-06-13T23:10:18.889263",
     "exception": false,
     "start_time": "2024-06-13T23:10:18.878517",
     "status": "completed"
    },
    "tags": []
   },
   "source": [
    "# Evaluate "
   ]
  },
  {
   "cell_type": "code",
   "execution_count": 17,
   "id": "8fb51ee9",
   "metadata": {
    "execution": {
     "iopub.execute_input": "2024-06-13T23:10:18.911907Z",
     "iopub.status.busy": "2024-06-13T23:10:18.911351Z",
     "iopub.status.idle": "2024-06-13T23:10:41.592387Z",
     "shell.execute_reply": "2024-06-13T23:10:41.591251Z"
    },
    "papermill": {
     "duration": 22.69514,
     "end_time": "2024-06-13T23:10:41.594724",
     "exception": false,
     "start_time": "2024-06-13T23:10:18.899584",
     "status": "completed"
    },
    "tags": []
   },
   "outputs": [
    {
     "name": "stdout",
     "output_type": "stream",
     "text": [
      "Test Accuracy: 0.9433\n"
     ]
    }
   ],
   "source": [
    "model.eval()\n",
    "test_corrects = 0\n",
    "\n",
    "with torch.no_grad():\n",
    "    for inputs, labels in test_loader:\n",
    "        inputs = inputs.to(device)\n",
    "        labels = labels.to(device)\n",
    "\n",
    "        outputs = model(inputs)\n",
    "        _, preds = torch.max(outputs, 1)\n",
    "        test_corrects += torch.sum(preds == labels.data)\n",
    "\n",
    "test_acc = test_corrects.double() / len(test_loader.dataset)\n",
    "print(f'Test Accuracy: {test_acc:.4f}')"
   ]
  },
  {
   "cell_type": "markdown",
   "id": "ed43f107",
   "metadata": {
    "papermill": {
     "duration": 0.010081,
     "end_time": "2024-06-13T23:10:41.614782",
     "exception": false,
     "start_time": "2024-06-13T23:10:41.604701",
     "status": "completed"
    },
    "tags": []
   },
   "source": [
    "# Plotting"
   ]
  },
  {
   "cell_type": "code",
   "execution_count": 18,
   "id": "49abfcaa",
   "metadata": {
    "execution": {
     "iopub.execute_input": "2024-06-13T23:10:41.636227Z",
     "iopub.status.busy": "2024-06-13T23:10:41.635265Z",
     "iopub.status.idle": "2024-06-13T23:10:42.207050Z",
     "shell.execute_reply": "2024-06-13T23:10:42.206062Z"
    },
    "papermill": {
     "duration": 0.585393,
     "end_time": "2024-06-13T23:10:42.209700",
     "exception": false,
     "start_time": "2024-06-13T23:10:41.624307",
     "status": "completed"
    },
    "tags": []
   },
   "outputs": [
    {
     "data": {
      "image/png": "[encoded data removed]",
      "text/plain": [
       "<Figure size 1200x400 with 2 Axes>"
      ]
     },
     "metadata": {},
     "output_type": "display_data"
    }
   ],
   "source": [
    "epochs_range = range(epochs)\n",
    "\n",
    "plt.figure(figsize=(12, 4))\n",
    "plt.subplot(1, 2, 1)\n",
    "plt.plot(epochs_range, train_loss_history, label='Train Loss')\n",
    "plt.plot(epochs_range, val_loss_history, label='Val Loss')\n",
    "plt.xlabel('Epochs')\n",
    "plt.ylabel('Loss')\n",
    "plt.legend(loc='upper right')\n",
    "plt.title('Training and Validation Loss')\n",
    "\n",
    "plt.subplot(1, 2, 2)\n",
    "plt.plot(epochs_range, train_acc_history, label='Train Accuracy')\n",
    "plt.plot(epochs_range, val_acc_history, label='Val Accuracy')\n",
    "plt.xlabel('Epochs')\n",
    "plt.ylabel('Accuracy')\n",
    "plt.legend(loc='lower right')\n",
    "plt.title('Training and Validation Accuracy')\n",
    "\n",
    "plt.show()"
   ]
  }
 ],
 "metadata": {
  "kaggle": {
   "accelerator": "nvidiaTeslaT4",
   "dataSources": [
    {
     "datasetId": 176381,
     "sourceId": 397693,
     "sourceType": "datasetVersion"
    }
   ],
   "dockerImageVersionId": 30733,
   "isGpuEnabled": true,
   "isInternetEnabled": true,
   "language": "python",
   "sourceType": "notebook"
  },
  "kernelspec": {
   "display_name": "Python 3",
   "language": "python",
   "name": "python3"
  },
  "language_info": {
   "codemirror_mode": {
    "name": "ipython",
    "version": 3
   },
   "file_extension": ".py",
   "mimetype": "text/x-python",
   "name": "python",
   "nbconvert_exporter": "python",
   "pygments_lexer": "ipython3",
   "version": "3.10.13"
  },
  "papermill": {
   "default_parameters": {},
   "duration": 1233.963739,
   "end_time": "2024-06-13T23:10:44.047156",
   "environment_variables": {},
   "exception": null,
   "input_path": "__notebook__.ipynb",
   "output_path": "__notebook__.ipynb",
   "parameters": {},
   "start_time": "2024-06-13T22:50:10.083417",
   "version": "2.5.0"
  }
 },
 "nbformat": 4,
 "nbformat_minor": 5
}
