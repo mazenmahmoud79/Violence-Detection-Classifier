{
 "cells": [
  {
   "cell_type": "code",
   "execution_count": 1,
   "id": "4644bd9d",
   "metadata": {
    "_cell_guid": "b1076dfc-b9ad-4769-8c92-a6c4dae69d19",
    "_uuid": "8f2839f25d086af736a60e9eeb907d3b93b6e0e5",
    "execution": {
     "iopub.execute_input": "2024-06-13T22:25:25.214738Z",
     "iopub.status.busy": "2024-06-13T22:25:25.214340Z",
     "iopub.status.idle": "2024-06-13T22:25:31.510594Z",
     "shell.execute_reply": "2024-06-13T22:25:31.509850Z"
    },
    "papermill": {
     "duration": 6.307756,
     "end_time": "2024-06-13T22:25:31.512830",
     "exception": false,
     "start_time": "2024-06-13T22:25:25.205074",
     "status": "completed"
    },
    "tags": []
   },
   "outputs": [],
   "source": [
    "import os\n",
    "import cv2\n",
    "import torch\n",
    "import torch.nn as nn\n",
    "import torch.optim as optim\n",
    "from torchvision import models, transforms\n",
    "from torch.utils.data import DataLoader, Dataset\n",
    "from sklearn.model_selection import train_test_split\n",
    "import matplotlib.pyplot as plt"
   ]
  },
  {
   "cell_type": "markdown",
   "id": "e9dd0685",
   "metadata": {
    "papermill": {
     "duration": 0.007389,
     "end_time": "2024-06-13T22:25:31.528356",
     "exception": false,
     "start_time": "2024-06-13T22:25:31.520967",
     "status": "completed"
    },
    "tags": []
   },
   "source": [
    "# Parameters"
   ]
  },
  {
   "cell_type": "code",
   "execution_count": 2,
   "id": "95b9b0dd",
   "metadata": {
    "execution": {
     "iopub.execute_input": "2024-06-13T22:25:31.544931Z",
     "iopub.status.busy": "2024-06-13T22:25:31.544506Z",
     "iopub.status.idle": "2024-06-13T22:25:31.549642Z",
     "shell.execute_reply": "2024-06-13T22:25:31.548780Z"
    },
    "papermill": {
     "duration": 0.01533,
     "end_time": "2024-06-13T22:25:31.551585",
     "exception": false,
     "start_time": "2024-06-13T22:25:31.536255",
     "status": "completed"
    },
    "tags": []
   },
   "outputs": [],
   "source": [
    "img_height, img_width = 224, 224\n",
    "batch_size = 16\n",
    "epochs = 10\n",
    "learning_rate = 0.001\n",
    "sequence_length = 10  # Number of frames to consider in each sequence\n",
    "dataset_path = '/kaggle/input/real-life-violence-situations-dataset/Real Life Violence Dataset'"
   ]
  },
  {
   "cell_type": "markdown",
   "id": "16d780be",
   "metadata": {
    "papermill": {
     "duration": 0.007355,
     "end_time": "2024-06-13T22:25:31.566460",
     "exception": false,
     "start_time": "2024-06-13T22:25:31.559105",
     "status": "completed"
    },
    "tags": []
   },
   "source": [
    "# Device configuration"
   ]
  },
  {
   "cell_type": "code",
   "execution_count": 3,
   "id": "fc59a574",
   "metadata": {
    "execution": {
     "iopub.execute_input": "2024-06-13T22:25:31.582277Z",
     "iopub.status.busy": "2024-06-13T22:25:31.582019Z",
     "iopub.status.idle": "2024-06-13T22:25:31.654561Z",
     "shell.execute_reply": "2024-06-13T22:25:31.653574Z"
    },
    "papermill": {
     "duration": 0.083,
     "end_time": "2024-06-13T22:25:31.656638",
     "exception": false,
     "start_time": "2024-06-13T22:25:31.573638",
     "status": "completed"
    },
    "tags": []
   },
   "outputs": [],
   "source": [
    "device = torch.device('cuda' if torch.cuda.is_available() else 'cpu')"
   ]
  },
  {
   "cell_type": "code",
   "execution_count": 4,
   "id": "f54e4fa7",
   "metadata": {
    "execution": {
     "iopub.execute_input": "2024-06-13T22:25:31.672887Z",
     "iopub.status.busy": "2024-06-13T22:25:31.672556Z",
     "iopub.status.idle": "2024-06-13T22:25:31.683188Z",
     "shell.execute_reply": "2024-06-13T22:25:31.682217Z"
    },
    "papermill": {
     "duration": 0.020969,
     "end_time": "2024-06-13T22:25:31.685108",
     "exception": false,
     "start_time": "2024-06-13T22:25:31.664139",
     "status": "completed"
    },
    "tags": []
   },
   "outputs": [
    {
     "name": "stdout",
     "output_type": "stream",
     "text": [
      "cuda\n"
     ]
    }
   ],
   "source": [
    "print(device)"
   ]
  },
  {
   "cell_type": "markdown",
   "id": "21744862",
   "metadata": {
    "papermill": {
     "duration": 0.008399,
     "end_time": "2024-06-13T22:25:31.700887",
     "exception": false,
     "start_time": "2024-06-13T22:25:31.692488",
     "status": "completed"
    },
    "tags": []
   },
   "source": [
    "# transformations"
   ]
  },
  {
   "cell_type": "code",
   "execution_count": 5,
   "id": "5ec2f950",
   "metadata": {
    "execution": {
     "iopub.execute_input": "2024-06-13T22:25:31.717916Z",
     "iopub.status.busy": "2024-06-13T22:25:31.717603Z",
     "iopub.status.idle": "2024-06-13T22:25:31.722428Z",
     "shell.execute_reply": "2024-06-13T22:25:31.721560Z"
    },
    "papermill": {
     "duration": 0.016006,
     "end_time": "2024-06-13T22:25:31.724273",
     "exception": false,
     "start_time": "2024-06-13T22:25:31.708267",
     "status": "completed"
    },
    "tags": []
   },
   "outputs": [],
   "source": [
    "data_transforms = transforms.Compose([\n",
    "    transforms.ToPILImage(),\n",
    "    transforms.Resize((img_height, img_width)),\n",
    "    transforms.ToTensor(),\n",
    "    transforms.Normalize([0.485, 0.456, 0.406], [0.229, 0.224, 0.225])\n",
    "])"
   ]
  },
  {
   "cell_type": "markdown",
   "id": "a484b5cc",
   "metadata": {
    "papermill": {
     "duration": 0.007486,
     "end_time": "2024-06-13T22:25:31.739350",
     "exception": false,
     "start_time": "2024-06-13T22:25:31.731864",
     "status": "completed"
    },
    "tags": []
   },
   "source": [
    "# extract frames from a video"
   ]
  },
  {
   "cell_type": "code",
   "execution_count": 6,
   "id": "e1686a78",
   "metadata": {
    "execution": {
     "iopub.execute_input": "2024-06-13T22:25:31.755682Z",
     "iopub.status.busy": "2024-06-13T22:25:31.755406Z",
     "iopub.status.idle": "2024-06-13T22:25:31.762558Z",
     "shell.execute_reply": "2024-06-13T22:25:31.761749Z"
    },
    "papermill": {
     "duration": 0.017343,
     "end_time": "2024-06-13T22:25:31.764373",
     "exception": false,
     "start_time": "2024-06-13T22:25:31.747030",
     "status": "completed"
    },
    "tags": []
   },
   "outputs": [],
   "source": [
    "def extract_frames(video_path, sequence_length, interval=10):\n",
    "    cap = cv2.VideoCapture(video_path)\n",
    "    frames = []\n",
    "    frame_count = 0\n",
    "    while len(frames) < sequence_length:\n",
    "        ret, frame = cap.read()\n",
    "        if not ret:\n",
    "            break\n",
    "        if frame_count % interval == 0:\n",
    "            frame = cv2.resize(frame, (img_height, img_width))\n",
    "            frames.append(frame)\n",
    "        frame_count += 1\n",
    "    cap.release()\n",
    "\n",
    "    # Handle cases where there are fewer frames than sequence_length\n",
    "    if len(frames) < sequence_length:\n",
    "        while len(frames) < sequence_length:\n",
    "            frames.append(frames[-1] if frames else cv2.resize(np.zeros((img_height, img_width, 3), dtype=np.uint8), (img_height, img_width)))\n",
    "    else:\n",
    "        frames = frames[:sequence_length]\n",
    "\n",
    "    return frames"
   ]
  },
  {
   "cell_type": "markdown",
   "id": "f3ba97e7",
   "metadata": {
    "papermill": {
     "duration": 0.007426,
     "end_time": "2024-06-13T22:25:31.779183",
     "exception": false,
     "start_time": "2024-06-13T22:25:31.771757",
     "status": "completed"
    },
    "tags": []
   },
   "source": [
    "# Dataset"
   ]
  },
  {
   "cell_type": "code",
   "execution_count": 7,
   "id": "545f3534",
   "metadata": {
    "execution": {
     "iopub.execute_input": "2024-06-13T22:25:31.795191Z",
     "iopub.status.busy": "2024-06-13T22:25:31.794930Z",
     "iopub.status.idle": "2024-06-13T22:25:31.801339Z",
     "shell.execute_reply": "2024-06-13T22:25:31.800448Z"
    },
    "papermill": {
     "duration": 0.016463,
     "end_time": "2024-06-13T22:25:31.803236",
     "exception": false,
     "start_time": "2024-06-13T22:25:31.786773",
     "status": "completed"
    },
    "tags": []
   },
   "outputs": [],
   "source": [
    "class VideoDataset(Dataset):\n",
    "    def __init__(self, video_files, labels, transform=None, sequence_length=10):\n",
    "        self.video_files = video_files\n",
    "        self.labels = labels\n",
    "        self.transform = transform\n",
    "        self.sequence_length = sequence_length\n",
    "\n",
    "    def __len__(self):\n",
    "        return len(self.video_files)\n",
    "\n",
    "    def __getitem__(self, idx):\n",
    "        frames = extract_frames(self.video_files[idx], self.sequence_length)\n",
    "        if self.transform:\n",
    "            frames = [self.transform(frame) for frame in frames]\n",
    "        label = self.labels[idx]\n",
    "        return torch.stack(frames), label"
   ]
  },
  {
   "cell_type": "markdown",
   "id": "e4544b19",
   "metadata": {
    "papermill": {
     "duration": 0.007586,
     "end_time": "2024-06-13T22:25:31.818334",
     "exception": false,
     "start_time": "2024-06-13T22:25:31.810748",
     "status": "completed"
    },
    "tags": []
   },
   "source": [
    "# Load dataset"
   ]
  },
  {
   "cell_type": "code",
   "execution_count": 8,
   "id": "2f4baa40",
   "metadata": {
    "execution": {
     "iopub.execute_input": "2024-06-13T22:25:31.834562Z",
     "iopub.status.busy": "2024-06-13T22:25:31.834275Z",
     "iopub.status.idle": "2024-06-13T22:25:31.840091Z",
     "shell.execute_reply": "2024-06-13T22:25:31.839335Z"
    },
    "papermill": {
     "duration": 0.016026,
     "end_time": "2024-06-13T22:25:31.841971",
     "exception": false,
     "start_time": "2024-06-13T22:25:31.825945",
     "status": "completed"
    },
    "tags": []
   },
   "outputs": [],
   "source": [
    "def load_dataset(dataset_path):\n",
    "    video_files = []\n",
    "    labels = []\n",
    "    classes = os.listdir(dataset_path)\n",
    "    for label, class_name in enumerate(classes):\n",
    "        class_path = os.path.join(dataset_path, class_name)\n",
    "        videos = os.listdir(class_path)\n",
    "        for video_name in videos:\n",
    "            video_path = os.path.join(class_path, video_name)\n",
    "            video_files.append(video_path)\n",
    "            labels.append(label)\n",
    "    return video_files, labels"
   ]
  },
  {
   "cell_type": "markdown",
   "id": "c1b41347",
   "metadata": {
    "papermill": {
     "duration": 0.007414,
     "end_time": "2024-06-13T22:25:31.856936",
     "exception": false,
     "start_time": "2024-06-13T22:25:31.849522",
     "status": "completed"
    },
    "tags": []
   },
   "source": [
    "# Split"
   ]
  },
  {
   "cell_type": "code",
   "execution_count": 9,
   "id": "166720cd",
   "metadata": {
    "execution": {
     "iopub.execute_input": "2024-06-13T22:25:31.872660Z",
     "iopub.status.busy": "2024-06-13T22:25:31.872401Z",
     "iopub.status.idle": "2024-06-13T22:25:32.127470Z",
     "shell.execute_reply": "2024-06-13T22:25:32.126352Z"
    },
    "papermill": {
     "duration": 0.265879,
     "end_time": "2024-06-13T22:25:32.130138",
     "exception": false,
     "start_time": "2024-06-13T22:25:31.864259",
     "status": "completed"
    },
    "tags": []
   },
   "outputs": [],
   "source": [
    "video_files, labels = load_dataset(dataset_path)\n",
    "train_videos, temp_videos, train_labels, temp_labels = train_test_split(video_files, labels, test_size=0.3, random_state=42)\n",
    "val_videos, test_videos, val_labels, test_labels = train_test_split(temp_videos, temp_labels, test_size=0.5, random_state=42)"
   ]
  },
  {
   "cell_type": "code",
   "execution_count": 10,
   "id": "bd78c377",
   "metadata": {
    "execution": {
     "iopub.execute_input": "2024-06-13T22:25:32.149905Z",
     "iopub.status.busy": "2024-06-13T22:25:32.149570Z",
     "iopub.status.idle": "2024-06-13T22:25:32.154763Z",
     "shell.execute_reply": "2024-06-13T22:25:32.153871Z"
    },
    "papermill": {
     "duration": 0.017483,
     "end_time": "2024-06-13T22:25:32.156869",
     "exception": false,
     "start_time": "2024-06-13T22:25:32.139386",
     "status": "completed"
    },
    "tags": []
   },
   "outputs": [],
   "source": [
    "train_dataset = VideoDataset(train_videos, train_labels, transform=data_transforms, sequence_length=sequence_length)\n",
    "val_dataset = VideoDataset(val_videos, val_labels, transform=data_transforms, sequence_length=sequence_length)\n",
    "test_dataset = VideoDataset(test_videos, test_labels, transform=data_transforms, sequence_length=sequence_length)"
   ]
  },
  {
   "cell_type": "markdown",
   "id": "851c5898",
   "metadata": {
    "papermill": {
     "duration": 0.007704,
     "end_time": "2024-06-13T22:25:32.172579",
     "exception": false,
     "start_time": "2024-06-13T22:25:32.164875",
     "status": "completed"
    },
    "tags": []
   },
   "source": [
    "# DataLoader"
   ]
  },
  {
   "cell_type": "code",
   "execution_count": 11,
   "id": "040fea08",
   "metadata": {
    "execution": {
     "iopub.execute_input": "2024-06-13T22:25:32.189299Z",
     "iopub.status.busy": "2024-06-13T22:25:32.188965Z",
     "iopub.status.idle": "2024-06-13T22:25:32.194222Z",
     "shell.execute_reply": "2024-06-13T22:25:32.193307Z"
    },
    "papermill": {
     "duration": 0.016243,
     "end_time": "2024-06-13T22:25:32.196524",
     "exception": false,
     "start_time": "2024-06-13T22:25:32.180281",
     "status": "completed"
    },
    "tags": []
   },
   "outputs": [],
   "source": [
    "train_loader = DataLoader(train_dataset, batch_size=batch_size, shuffle=True, num_workers=4)\n",
    "val_loader = DataLoader(val_dataset, batch_size=batch_size, shuffle=False, num_workers=4)\n",
    "test_loader = DataLoader(test_dataset, batch_size=batch_size, shuffle=False, num_workers=4)"
   ]
  },
  {
   "cell_type": "markdown",
   "id": "2c9a06a8",
   "metadata": {
    "papermill": {
     "duration": 0.007231,
     "end_time": "2024-06-13T22:25:32.211166",
     "exception": false,
     "start_time": "2024-06-13T22:25:32.203935",
     "status": "completed"
    },
    "tags": []
   },
   "source": [
    "# Model"
   ]
  },
  {
   "cell_type": "code",
   "execution_count": 12,
   "id": "b0c0d22b",
   "metadata": {
    "execution": {
     "iopub.execute_input": "2024-06-13T22:25:32.227719Z",
     "iopub.status.busy": "2024-06-13T22:25:32.227436Z",
     "iopub.status.idle": "2024-06-13T22:25:32.237186Z",
     "shell.execute_reply": "2024-06-13T22:25:32.236266Z"
    },
    "papermill": {
     "duration": 0.02041,
     "end_time": "2024-06-13T22:25:32.239301",
     "exception": false,
     "start_time": "2024-06-13T22:25:32.218891",
     "status": "completed"
    },
    "tags": []
   },
   "outputs": [],
   "source": [
    "class MobileNetLSTM(nn.Module):\n",
    "    def __init__(self, hidden_dim, num_classes, num_layers=1):\n",
    "        super(MobileNetLSTM, self).__init__()\n",
    "        self.hidden_dim = hidden_dim\n",
    "        self.num_layers = num_layers\n",
    "\n",
    "        # Load pre-trained MobileNetV2\n",
    "        self.mobilenet = models.mobilenet_v2(pretrained=True)\n",
    "        self.mobilenet.classifier = nn.Identity()  # Remove the last fully connected layer\n",
    "\n",
    "        # LSTM\n",
    "        self.lstm = nn.LSTM(input_size=1280, hidden_size=hidden_dim, num_layers=num_layers, batch_first=True)\n",
    "\n",
    "        # Fully connected layer for classification\n",
    "        self.fc = nn.Linear(hidden_dim, num_classes)\n",
    "\n",
    "    def forward(self, x):\n",
    "        batch_size, seq_length, c, h, w = x.size()\n",
    "\n",
    "        # Reshape to (batch_size * seq_length, c, h, w) to feed each frame into MobileNet\n",
    "        x = x.view(batch_size * seq_length, c, h, w)\n",
    "        with torch.no_grad():\n",
    "            x = self.mobilenet(x)\n",
    "        \n",
    "        # Reshape back to (batch_size, seq_length, 1280) to feed into LSTM\n",
    "        x = x.view(batch_size, seq_length, -1)\n",
    "\n",
    "        # LSTM\n",
    "        h0 = torch.zeros(self.num_layers, batch_size, self.hidden_dim).to(x.device)\n",
    "        c0 = torch.zeros(self.num_layers, batch_size, self.hidden_dim).to(x.device)\n",
    "        x, _ = self.lstm(x, (h0, c0))\n",
    "\n",
    "        # Classification\n",
    "        x = self.fc(x[:, -1, :])  # Use the output of the last LSTM cell\n",
    "\n",
    "        return x"
   ]
  },
  {
   "cell_type": "code",
   "execution_count": 13,
   "id": "860e1285",
   "metadata": {
    "execution": {
     "iopub.execute_input": "2024-06-13T22:25:32.255632Z",
     "iopub.status.busy": "2024-06-13T22:25:32.254981Z",
     "iopub.status.idle": "2024-06-13T22:25:33.061412Z",
     "shell.execute_reply": "2024-06-13T22:25:33.060351Z"
    },
    "papermill": {
     "duration": 0.817049,
     "end_time": "2024-06-13T22:25:33.063781",
     "exception": false,
     "start_time": "2024-06-13T22:25:32.246732",
     "status": "completed"
    },
    "tags": []
   },
   "outputs": [
    {
     "name": "stderr",
     "output_type": "stream",
     "text": [
      "/opt/conda/lib/python3.10/site-packages/torchvision/models/_utils.py:208: UserWarning: The parameter 'pretrained' is deprecated since 0.13 and may be removed in the future, please use 'weights' instead.\n",
      "  warnings.warn(\n",
      "/opt/conda/lib/python3.10/site-packages/torchvision/models/_utils.py:223: UserWarning: Arguments other than a weight enum or `None` for 'weights' are deprecated since 0.13 and may be removed in the future. The current behavior is equivalent to passing `weights=MobileNet_V2_Weights.IMAGENET1K_V1`. You can also use `weights=MobileNet_V2_Weights.DEFAULT` to get the most up-to-date weights.\n",
      "  warnings.warn(msg)\n",
      "Downloading: \"https://download.pytorch.org/models/mobilenet_v2-b0353104.pth\" to /root/.cache/torch/hub/checkpoints/mobilenet_v2-b0353104.pth\n",
      "100%|██████████| 13.6M/13.6M [00:00<00:00, 86.6MB/s]\n"
     ]
    }
   ],
   "source": [
    "hidden_dim = 512\n",
    "num_classes = 2\n",
    "model = MobileNetLSTM(hidden_dim, num_classes).to(device)"
   ]
  },
  {
   "cell_type": "markdown",
   "id": "a2a9cf7b",
   "metadata": {
    "papermill": {
     "duration": 0.007972,
     "end_time": "2024-06-13T22:25:33.080057",
     "exception": false,
     "start_time": "2024-06-13T22:25:33.072085",
     "status": "completed"
    },
    "tags": []
   },
   "source": [
    "# loss function and optimizer"
   ]
  },
  {
   "cell_type": "code",
   "execution_count": 14,
   "id": "ae3cae31",
   "metadata": {
    "execution": {
     "iopub.execute_input": "2024-06-13T22:25:33.097272Z",
     "iopub.status.busy": "2024-06-13T22:25:33.096956Z",
     "iopub.status.idle": "2024-06-13T22:25:33.103020Z",
     "shell.execute_reply": "2024-06-13T22:25:33.102134Z"
    },
    "papermill": {
     "duration": 0.01703,
     "end_time": "2024-06-13T22:25:33.104787",
     "exception": false,
     "start_time": "2024-06-13T22:25:33.087757",
     "status": "completed"
    },
    "tags": []
   },
   "outputs": [],
   "source": [
    "criterion = nn.CrossEntropyLoss()\n",
    "optimizer = optim.Adam(model.parameters(), lr=learning_rate)"
   ]
  },
  {
   "cell_type": "markdown",
   "id": "146854ad",
   "metadata": {
    "papermill": {
     "duration": 0.007783,
     "end_time": "2024-06-13T22:25:33.120535",
     "exception": false,
     "start_time": "2024-06-13T22:25:33.112752",
     "status": "completed"
    },
    "tags": []
   },
   "source": [
    "# Training "
   ]
  },
  {
   "cell_type": "code",
   "execution_count": 15,
   "id": "7647ad04",
   "metadata": {
    "execution": {
     "iopub.execute_input": "2024-06-13T22:25:33.138086Z",
     "iopub.status.busy": "2024-06-13T22:25:33.137777Z",
     "iopub.status.idle": "2024-06-13T22:25:33.149434Z",
     "shell.execute_reply": "2024-06-13T22:25:33.148766Z"
    },
    "papermill": {
     "duration": 0.022347,
     "end_time": "2024-06-13T22:25:33.151258",
     "exception": false,
     "start_time": "2024-06-13T22:25:33.128911",
     "status": "completed"
    },
    "tags": []
   },
   "outputs": [],
   "source": [
    "def train_model(model, criterion, optimizer, train_loader, val_loader, num_epochs=25):\n",
    "    train_loss_history = []\n",
    "    train_acc_history = []\n",
    "    val_loss_history = []\n",
    "    val_acc_history = []\n",
    "\n",
    "    for epoch in range(num_epochs):\n",
    "        model.train()\n",
    "        running_loss = 0.0\n",
    "        running_corrects = 0\n",
    "\n",
    "        for inputs, labels in train_loader:\n",
    "            inputs = inputs.to(device)\n",
    "            labels = labels.to(device)\n",
    "\n",
    "            optimizer.zero_grad()\n",
    "\n",
    "            outputs = model(inputs)\n",
    "            _, preds = torch.max(outputs, 1)\n",
    "            loss = criterion(outputs, labels)\n",
    "\n",
    "            loss.backward()\n",
    "            optimizer.step()\n",
    "\n",
    "            running_loss += loss.item() * inputs.size(0)\n",
    "            running_corrects += torch.sum(preds == labels.data)\n",
    "\n",
    "        epoch_loss = running_loss / len(train_loader.dataset)\n",
    "        epoch_acc = running_corrects.double() / len(train_loader.dataset)\n",
    "        train_loss_history.append(epoch_loss)\n",
    "        train_acc_history.append(epoch_acc.item())\n",
    "\n",
    "        # Validation phase\n",
    "        model.eval()\n",
    "        val_running_loss = 0.0\n",
    "        val_running_corrects = 0\n",
    "\n",
    "        with torch.no_grad():\n",
    "            for inputs, labels in val_loader:\n",
    "                inputs = inputs.to(device)\n",
    "                labels = labels.to(device)\n",
    "\n",
    "                outputs = model(inputs)\n",
    "                _, preds = torch.max(outputs, 1)\n",
    "                loss = criterion(outputs, labels)\n",
    "\n",
    "                val_running_loss += loss.item() * inputs.size(0)\n",
    "                val_running_corrects += torch.sum(preds == labels.data)\n",
    "\n",
    "        val_epoch_loss = val_running_loss / len(val_loader.dataset)\n",
    "        val_epoch_acc = val_running_corrects.double() / len(val_loader.dataset)\n",
    "        val_loss_history.append(val_epoch_loss)\n",
    "        val_acc_history.append(val_epoch_acc.item())\n",
    "\n",
    "        print(f'Epoch {epoch}/{num_epochs}, Loss: {epoch_loss:.4f}, Acc: {epoch_acc:.4f}, Val Loss: {val_epoch_loss:.4f}, Val Acc: {val_epoch_acc:.4f}')\n",
    "\n",
    "    return model, train_loss_history, train_acc_history, val_loss_history, val_acc_history"
   ]
  },
  {
   "cell_type": "code",
   "execution_count": 16,
   "id": "665f4251",
   "metadata": {
    "execution": {
     "iopub.execute_input": "2024-06-13T22:25:33.168097Z",
     "iopub.status.busy": "2024-06-13T22:25:33.167793Z",
     "iopub.status.idle": "2024-06-13T22:45:32.203993Z",
     "shell.execute_reply": "2024-06-13T22:45:32.202633Z"
    },
    "papermill": {
     "duration": 1199.046839,
     "end_time": "2024-06-13T22:45:32.206102",
     "exception": false,
     "start_time": "2024-06-13T22:25:33.159263",
     "status": "completed"
    },
    "tags": []
   },
   "outputs": [
    {
     "name": "stderr",
     "output_type": "stream",
     "text": [
      "[h264 @ 0x5a4937a64fc0] mb_type 104 in P slice too large at 98 31\n",
      "[h264 @ 0x5a4937a64fc0] error while decoding MB 98 31\n"
     ]
    },
    {
     "name": "stdout",
     "output_type": "stream",
     "text": [
      "Epoch 0/10, Loss: 0.3663, Acc: 0.8271, Val Loss: 0.2332, Val Acc: 0.9200\n"
     ]
    },
    {
     "name": "stderr",
     "output_type": "stream",
     "text": [
      "[h264 @ 0x5a4939e83980] mb_type 104 in P slice too large at 98 31\n",
      "[h264 @ 0x5a4939e83980] error while decoding MB 98 31\n"
     ]
    },
    {
     "name": "stdout",
     "output_type": "stream",
     "text": [
      "Epoch 1/10, Loss: 0.3202, Acc: 0.8607, Val Loss: 0.2211, Val Acc: 0.9267\n"
     ]
    },
    {
     "name": "stderr",
     "output_type": "stream",
     "text": [
      "[h264 @ 0x5a4937e8bb40] mb_type 104 in P slice too large at 98 31\n",
      "[h264 @ 0x5a4937e8bb40] error while decoding MB 98 31\n"
     ]
    },
    {
     "name": "stdout",
     "output_type": "stream",
     "text": [
      "Epoch 2/10, Loss: 0.3051, Acc: 0.8743, Val Loss: 0.2927, Val Acc: 0.8533\n"
     ]
    },
    {
     "name": "stderr",
     "output_type": "stream",
     "text": [
      "[h264 @ 0x5a493a583e40] mb_type 104 in P slice too large at 98 31\n",
      "[h264 @ 0x5a493a583e40] error while decoding MB 98 31\n"
     ]
    },
    {
     "name": "stdout",
     "output_type": "stream",
     "text": [
      "Epoch 3/10, Loss: 0.2438, Acc: 0.9050, Val Loss: 0.1874, Val Acc: 0.9400\n"
     ]
    },
    {
     "name": "stderr",
     "output_type": "stream",
     "text": [
      "[h264 @ 0x5a4939d8b2c0] mb_type 104 in P slice too large at 98 31\n",
      "[h264 @ 0x5a4939d8b2c0] error while decoding MB 98 31\n"
     ]
    },
    {
     "name": "stdout",
     "output_type": "stream",
     "text": [
      "Epoch 4/10, Loss: 0.2045, Acc: 0.9193, Val Loss: 0.1930, Val Acc: 0.9167\n"
     ]
    },
    {
     "name": "stderr",
     "output_type": "stream",
     "text": [
      "[h264 @ 0x5a4937e83a00] mb_type 104 in P slice too large at 98 31\n",
      "[h264 @ 0x5a4937e83a00] error while decoding MB 98 31\n"
     ]
    },
    {
     "name": "stdout",
     "output_type": "stream",
     "text": [
      "Epoch 5/10, Loss: 0.2138, Acc: 0.9093, Val Loss: 0.1618, Val Acc: 0.9400\n"
     ]
    },
    {
     "name": "stderr",
     "output_type": "stream",
     "text": [
      "[h264 @ 0x5a493a71d7c0] mb_type 104 in P slice too large at 98 31\n",
      "[h264 @ 0x5a493a71d7c0] error while decoding MB 98 31\n"
     ]
    },
    {
     "name": "stdout",
     "output_type": "stream",
     "text": [
      "Epoch 6/10, Loss: 0.2461, Acc: 0.8950, Val Loss: 0.1933, Val Acc: 0.9167\n"
     ]
    },
    {
     "name": "stderr",
     "output_type": "stream",
     "text": [
      "[h264 @ 0x5a4939c689c0] mb_type 104 in P slice too large at 98 31\n",
      "[h264 @ 0x5a4939c689c0] error while decoding MB 98 31\n"
     ]
    },
    {
     "name": "stdout",
     "output_type": "stream",
     "text": [
      "Epoch 7/10, Loss: 0.1801, Acc: 0.9250, Val Loss: 0.1389, Val Acc: 0.9467\n"
     ]
    },
    {
     "name": "stderr",
     "output_type": "stream",
     "text": [
      "[h264 @ 0x5a4939e3d180] mb_type 104 in P slice too large at 98 31\n",
      "[h264 @ 0x5a4939e3d180] error while decoding MB 98 31\n"
     ]
    },
    {
     "name": "stdout",
     "output_type": "stream",
     "text": [
      "Epoch 8/10, Loss: 0.1583, Acc: 0.9357, Val Loss: 0.1094, Val Acc: 0.9633\n"
     ]
    },
    {
     "name": "stderr",
     "output_type": "stream",
     "text": [
      "[h264 @ 0x5a4939f2fa40] mb_type 104 in P slice too large at 98 31\n",
      "[h264 @ 0x5a4939f2fa40] error while decoding MB 98 31\n"
     ]
    },
    {
     "name": "stdout",
     "output_type": "stream",
     "text": [
      "Epoch 9/10, Loss: 0.1485, Acc: 0.9450, Val Loss: 0.1217, Val Acc: 0.9633\n"
     ]
    }
   ],
   "source": [
    "model, train_loss_history, train_acc_history, val_loss_history, val_acc_history = train_model(model, criterion, optimizer, train_loader, val_loader, epochs)"
   ]
  },
  {
   "cell_type": "markdown",
   "id": "81156d5f",
   "metadata": {
    "papermill": {
     "duration": 0.009842,
     "end_time": "2024-06-13T22:45:32.226162",
     "exception": false,
     "start_time": "2024-06-13T22:45:32.216320",
     "status": "completed"
    },
    "tags": []
   },
   "source": [
    "# Evaluate "
   ]
  },
  {
   "cell_type": "code",
   "execution_count": 17,
   "id": "80294f18",
   "metadata": {
    "execution": {
     "iopub.execute_input": "2024-06-13T22:45:32.247972Z",
     "iopub.status.busy": "2024-06-13T22:45:32.247645Z",
     "iopub.status.idle": "2024-06-13T22:45:55.489005Z",
     "shell.execute_reply": "2024-06-13T22:45:55.487886Z"
    },
    "papermill": {
     "duration": 23.254964,
     "end_time": "2024-06-13T22:45:55.491293",
     "exception": false,
     "start_time": "2024-06-13T22:45:32.236329",
     "status": "completed"
    },
    "tags": []
   },
   "outputs": [
    {
     "name": "stdout",
     "output_type": "stream",
     "text": [
      "Test Accuracy: 0.9400\n"
     ]
    }
   ],
   "source": [
    "model.eval()\n",
    "test_corrects = 0\n",
    "\n",
    "with torch.no_grad():\n",
    "    for inputs, labels in test_loader:\n",
    "        inputs = inputs.to(device)\n",
    "        labels = labels.to(device)\n",
    "\n",
    "        outputs = model(inputs)\n",
    "        _, preds = torch.max(outputs, 1)\n",
    "        test_corrects += torch.sum(preds == labels.data)\n",
    "\n",
    "test_acc = test_corrects.double() / len(test_loader.dataset)\n",
    "print(f'Test Accuracy: {test_acc:.4f}')"
   ]
  },
  {
   "cell_type": "markdown",
   "id": "3f7e0457",
   "metadata": {
    "papermill": {
     "duration": 0.009777,
     "end_time": "2024-06-13T22:45:55.511407",
     "exception": false,
     "start_time": "2024-06-13T22:45:55.501630",
     "status": "completed"
    },
    "tags": []
   },
   "source": [
    "# Plotting"
   ]
  },
  {
   "cell_type": "code",
   "execution_count": 18,
   "id": "965fd5ed",
   "metadata": {
    "execution": {
     "iopub.execute_input": "2024-06-13T22:45:55.533323Z",
     "iopub.status.busy": "2024-06-13T22:45:55.532929Z",
     "iopub.status.idle": "2024-06-13T22:45:56.090997Z",
     "shell.execute_reply": "2024-06-13T22:45:56.090076Z"
    },
    "papermill": {
     "duration": 0.571646,
     "end_time": "2024-06-13T22:45:56.093059",
     "exception": false,
     "start_time": "2024-06-13T22:45:55.521413",
     "status": "completed"
    },
    "tags": []
   },
   "outputs": [
    {
     "data": {
      "image/png": "[encoded data removed]",
      "text/plain": [
       "<Figure size 1200x400 with 2 Axes>"
      ]
     },
     "metadata": {},
     "output_type": "display_data"
    }
   ],
   "source": [
    "epochs_range = range(epochs)\n",
    "\n",
    "plt.figure(figsize=(12, 4))\n",
    "plt.subplot(1, 2, 1)\n",
    "plt.plot(epochs_range, train_loss_history, label='Train Loss')\n",
    "plt.plot(epochs_range, val_loss_history, label='Val Loss')\n",
    "plt.xlabel('Epochs')\n",
    "plt.ylabel('Loss')\n",
    "plt.legend(loc='upper right')\n",
    "plt.title('Training and Validation Loss')\n",
    "\n",
    "plt.subplot(1, 2, 2)\n",
    "plt.plot(epochs_range, train_acc_history, label='Train Accuracy')\n",
    "plt.plot(epochs_range, val_acc_history, label='Val Accuracy')\n",
    "plt.xlabel('Epochs')\n",
    "plt.ylabel('Accuracy')\n",
    "plt.legend(loc='lower right')\n",
    "plt.title('Training and Validation Accuracy')\n",
    "\n",
    "plt.show()"
   ]
  }
 ],
 "metadata": {
  "kaggle": {
   "accelerator": "nvidiaTeslaT4",
   "dataSources": [
    {
     "datasetId": 176381,
     "sourceId": 397693,
     "sourceType": "datasetVersion"
    }
   ],
   "dockerImageVersionId": 30733,
   "isGpuEnabled": true,
   "isInternetEnabled": true,
   "language": "python",
   "sourceType": "notebook"
  },
  "kernelspec": {
   "display_name": "Python 3",
   "language": "python",
   "name": "python3"
  },
  "language_info": {
   "codemirror_mode": {
    "name": "ipython",
    "version": 3
   },
   "file_extension": ".py",
   "mimetype": "text/x-python",
   "name": "python",
   "nbconvert_exporter": "python",
   "pygments_lexer": "ipython3",
   "version": "3.10.13"
  },
  "papermill": {
   "default_parameters": {},
   "duration": 1236.01535,
   "end_time": "2024-06-13T22:45:58.465338",
   "environment_variables": {},
   "exception": null,
   "input_path": "__notebook__.ipynb",
   "output_path": "__notebook__.ipynb",
   "parameters": {},
   "start_time": "2024-06-13T22:25:22.449988",
   "version": "2.5.0"
  }
 },
 "nbformat": 4,
 "nbformat_minor": 5
}
