{
 "cells": [
  {
   "cell_type": "code",
   "execution_count": 1,
   "id": "9507b3c0",
   "metadata": {
    "_cell_guid": "b1076dfc-b9ad-4769-8c92-a6c4dae69d19",
    "_uuid": "8f2839f25d086af736a60e9eeb907d3b93b6e0e5",
    "execution": {
     "iopub.execute_input": "2024-06-13T22:50:50.150288Z",
     "iopub.status.busy": "2024-06-13T22:50:50.149977Z",
     "iopub.status.idle": "2024-06-13T22:50:57.421325Z",
     "shell.execute_reply": "2024-06-13T22:50:57.420563Z"
    },
    "papermill": {
     "duration": 7.283002,
     "end_time": "2024-06-13T22:50:57.423653",
     "exception": false,
     "start_time": "2024-06-13T22:50:50.140651",
     "status": "completed"
    },
    "tags": []
   },
   "outputs": [],
   "source": [
    "import os\n",
    "import cv2\n",
    "import torch\n",
    "import torch.nn as nn\n",
    "import torch.optim as optim\n",
    "from torchvision import models, transforms\n",
    "from torch.utils.data import DataLoader, Dataset\n",
    "from sklearn.model_selection import train_test_split\n",
    "import matplotlib.pyplot as plt"
   ]
  },
  {
   "cell_type": "markdown",
   "id": "7c7a93f1",
   "metadata": {
    "papermill": {
     "duration": 0.007138,
     "end_time": "2024-06-13T22:50:57.438581",
     "exception": false,
     "start_time": "2024-06-13T22:50:57.431443",
     "status": "completed"
    },
    "tags": []
   },
   "source": [
    "# Parameters"
   ]
  },
  {
   "cell_type": "code",
   "execution_count": 2,
   "id": "4f0c1f37",
   "metadata": {
    "execution": {
     "iopub.execute_input": "2024-06-13T22:50:57.454239Z",
     "iopub.status.busy": "2024-06-13T22:50:57.453839Z",
     "iopub.status.idle": "2024-06-13T22:50:57.458647Z",
     "shell.execute_reply": "2024-06-13T22:50:57.457776Z"
    },
    "papermill": {
     "duration": 0.014741,
     "end_time": "2024-06-13T22:50:57.460461",
     "exception": false,
     "start_time": "2024-06-13T22:50:57.445720",
     "status": "completed"
    },
    "tags": []
   },
   "outputs": [],
   "source": [
    "img_height, img_width = 224, 224\n",
    "batch_size = 16\n",
    "epochs = 10\n",
    "learning_rate = 0.001\n",
    "sequence_length = 10  # Number of frames to consider in each sequence\n",
    "dataset_path = '/kaggle/input/real-life-violence-situations-dataset/Real Life Violence Dataset'"
   ]
  },
  {
   "cell_type": "markdown",
   "id": "14f2e778",
   "metadata": {
    "papermill": {
     "duration": 0.007001,
     "end_time": "2024-06-13T22:50:57.474647",
     "exception": false,
     "start_time": "2024-06-13T22:50:57.467646",
     "status": "completed"
    },
    "tags": []
   },
   "source": [
    "# Device configuration"
   ]
  },
  {
   "cell_type": "code",
   "execution_count": 3,
   "id": "8768d36b",
   "metadata": {
    "execution": {
     "iopub.execute_input": "2024-06-13T22:50:57.490296Z",
     "iopub.status.busy": "2024-06-13T22:50:57.489782Z",
     "iopub.status.idle": "2024-06-13T22:50:57.568943Z",
     "shell.execute_reply": "2024-06-13T22:50:57.568043Z"
    },
    "papermill": {
     "duration": 0.089164,
     "end_time": "2024-06-13T22:50:57.570928",
     "exception": false,
     "start_time": "2024-06-13T22:50:57.481764",
     "status": "completed"
    },
    "tags": []
   },
   "outputs": [],
   "source": [
    "device = torch.device('cuda' if torch.cuda.is_available() else 'cpu')"
   ]
  },
  {
   "cell_type": "code",
   "execution_count": 4,
   "id": "b2181508",
   "metadata": {
    "execution": {
     "iopub.execute_input": "2024-06-13T22:50:57.586601Z",
     "iopub.status.busy": "2024-06-13T22:50:57.586307Z",
     "iopub.status.idle": "2024-06-13T22:50:57.598332Z",
     "shell.execute_reply": "2024-06-13T22:50:57.597325Z"
    },
    "papermill": {
     "duration": 0.021973,
     "end_time": "2024-06-13T22:50:57.600232",
     "exception": false,
     "start_time": "2024-06-13T22:50:57.578259",
     "status": "completed"
    },
    "tags": []
   },
   "outputs": [
    {
     "name": "stdout",
     "output_type": "stream",
     "text": [
      "cuda\n"
     ]
    }
   ],
   "source": [
    "print(device)"
   ]
  },
  {
   "cell_type": "markdown",
   "id": "e3fd7928",
   "metadata": {
    "papermill": {
     "duration": 0.007891,
     "end_time": "2024-06-13T22:50:57.615382",
     "exception": false,
     "start_time": "2024-06-13T22:50:57.607491",
     "status": "completed"
    },
    "tags": []
   },
   "source": [
    "# transformations"
   ]
  },
  {
   "cell_type": "code",
   "execution_count": 5,
   "id": "4378141a",
   "metadata": {
    "execution": {
     "iopub.execute_input": "2024-06-13T22:50:57.630847Z",
     "iopub.status.busy": "2024-06-13T22:50:57.630589Z",
     "iopub.status.idle": "2024-06-13T22:50:57.635264Z",
     "shell.execute_reply": "2024-06-13T22:50:57.634418Z"
    },
    "papermill": {
     "duration": 0.01451,
     "end_time": "2024-06-13T22:50:57.637090",
     "exception": false,
     "start_time": "2024-06-13T22:50:57.622580",
     "status": "completed"
    },
    "tags": []
   },
   "outputs": [],
   "source": [
    "data_transforms = transforms.Compose([\n",
    "    transforms.ToPILImage(),\n",
    "    transforms.Resize((img_height, img_width)),\n",
    "    transforms.ToTensor(),\n",
    "    transforms.Normalize([0.485, 0.456, 0.406], [0.229, 0.224, 0.225])\n",
    "])"
   ]
  },
  {
   "cell_type": "markdown",
   "id": "a8d39f81",
   "metadata": {
    "papermill": {
     "duration": 0.007272,
     "end_time": "2024-06-13T22:50:57.651631",
     "exception": false,
     "start_time": "2024-06-13T22:50:57.644359",
     "status": "completed"
    },
    "tags": []
   },
   "source": [
    "# extract frames from a video"
   ]
  },
  {
   "cell_type": "code",
   "execution_count": 6,
   "id": "f1e66038",
   "metadata": {
    "execution": {
     "iopub.execute_input": "2024-06-13T22:50:57.667170Z",
     "iopub.status.busy": "2024-06-13T22:50:57.666909Z",
     "iopub.status.idle": "2024-06-13T22:50:57.673903Z",
     "shell.execute_reply": "2024-06-13T22:50:57.673117Z"
    },
    "papermill": {
     "duration": 0.016742,
     "end_time": "2024-06-13T22:50:57.675728",
     "exception": false,
     "start_time": "2024-06-13T22:50:57.658986",
     "status": "completed"
    },
    "tags": []
   },
   "outputs": [],
   "source": [
    "def extract_frames(video_path, sequence_length, interval=10):\n",
    "    cap = cv2.VideoCapture(video_path)\n",
    "    frames = []\n",
    "    frame_count = 0\n",
    "    while len(frames) < sequence_length:\n",
    "        ret, frame = cap.read()\n",
    "        if not ret:\n",
    "            break\n",
    "        if frame_count % interval == 0:\n",
    "            frame = cv2.resize(frame, (img_height, img_width))\n",
    "            frames.append(frame)\n",
    "        frame_count += 1\n",
    "    cap.release()\n",
    "\n",
    "    # Handle cases where there are fewer frames than sequence_length\n",
    "    if len(frames) < sequence_length:\n",
    "        while len(frames) < sequence_length:\n",
    "            frames.append(frames[-1] if frames else cv2.resize(np.zeros((img_height, img_width, 3), dtype=np.uint8), (img_height, img_width)))\n",
    "    else:\n",
    "        frames = frames[:sequence_length]\n",
    "\n",
    "    return frames"
   ]
  },
  {
   "cell_type": "markdown",
   "id": "d7a40b19",
   "metadata": {
    "papermill": {
     "duration": 0.007158,
     "end_time": "2024-06-13T22:50:57.690142",
     "exception": false,
     "start_time": "2024-06-13T22:50:57.682984",
     "status": "completed"
    },
    "tags": []
   },
   "source": [
    "# Dataset"
   ]
  },
  {
   "cell_type": "code",
   "execution_count": 7,
   "id": "366804d6",
   "metadata": {
    "execution": {
     "iopub.execute_input": "2024-06-13T22:50:57.705613Z",
     "iopub.status.busy": "2024-06-13T22:50:57.705379Z",
     "iopub.status.idle": "2024-06-13T22:50:57.711685Z",
     "shell.execute_reply": "2024-06-13T22:50:57.710844Z"
    },
    "papermill": {
     "duration": 0.016156,
     "end_time": "2024-06-13T22:50:57.713474",
     "exception": false,
     "start_time": "2024-06-13T22:50:57.697318",
     "status": "completed"
    },
    "tags": []
   },
   "outputs": [],
   "source": [
    "class VideoDataset(Dataset):\n",
    "    def __init__(self, video_files, labels, transform=None, sequence_length=10):\n",
    "        self.video_files = video_files\n",
    "        self.labels = labels\n",
    "        self.transform = transform\n",
    "        self.sequence_length = sequence_length\n",
    "\n",
    "    def __len__(self):\n",
    "        return len(self.video_files)\n",
    "\n",
    "    def __getitem__(self, idx):\n",
    "        frames = extract_frames(self.video_files[idx], self.sequence_length)\n",
    "        if self.transform:\n",
    "            frames = [self.transform(frame) for frame in frames]\n",
    "        label = self.labels[idx]\n",
    "        return torch.stack(frames), label"
   ]
  },
  {
   "cell_type": "markdown",
   "id": "e6c6fbeb",
   "metadata": {
    "papermill": {
     "duration": 0.00731,
     "end_time": "2024-06-13T22:50:57.728117",
     "exception": false,
     "start_time": "2024-06-13T22:50:57.720807",
     "status": "completed"
    },
    "tags": []
   },
   "source": [
    "# Load dataset"
   ]
  },
  {
   "cell_type": "code",
   "execution_count": 8,
   "id": "11459e39",
   "metadata": {
    "execution": {
     "iopub.execute_input": "2024-06-13T22:50:57.743752Z",
     "iopub.status.busy": "2024-06-13T22:50:57.743493Z",
     "iopub.status.idle": "2024-06-13T22:50:57.749594Z",
     "shell.execute_reply": "2024-06-13T22:50:57.748830Z"
    },
    "papermill": {
     "duration": 0.015812,
     "end_time": "2024-06-13T22:50:57.751417",
     "exception": false,
     "start_time": "2024-06-13T22:50:57.735605",
     "status": "completed"
    },
    "tags": []
   },
   "outputs": [],
   "source": [
    "def load_dataset(dataset_path):\n",
    "    video_files = []\n",
    "    labels = []\n",
    "    classes = os.listdir(dataset_path)\n",
    "    for label, class_name in enumerate(classes):\n",
    "        class_path = os.path.join(dataset_path, class_name)\n",
    "        videos = os.listdir(class_path)\n",
    "        for video_name in videos:\n",
    "            video_path = os.path.join(class_path, video_name)\n",
    "            video_files.append(video_path)\n",
    "            labels.append(label)\n",
    "    return video_files, labels"
   ]
  },
  {
   "cell_type": "markdown",
   "id": "61407663",
   "metadata": {
    "papermill": {
     "duration": 0.007246,
     "end_time": "2024-06-13T22:50:57.765952",
     "exception": false,
     "start_time": "2024-06-13T22:50:57.758706",
     "status": "completed"
    },
    "tags": []
   },
   "source": [
    "# Split"
   ]
  },
  {
   "cell_type": "code",
   "execution_count": 9,
   "id": "73488278",
   "metadata": {
    "execution": {
     "iopub.execute_input": "2024-06-13T22:50:57.781397Z",
     "iopub.status.busy": "2024-06-13T22:50:57.781150Z",
     "iopub.status.idle": "2024-06-13T22:50:58.291980Z",
     "shell.execute_reply": "2024-06-13T22:50:58.291144Z"
    },
    "papermill": {
     "duration": 0.521192,
     "end_time": "2024-06-13T22:50:58.294366",
     "exception": false,
     "start_time": "2024-06-13T22:50:57.773174",
     "status": "completed"
    },
    "tags": []
   },
   "outputs": [],
   "source": [
    "video_files, labels = load_dataset(dataset_path)\n",
    "train_videos, temp_videos, train_labels, temp_labels = train_test_split(video_files, labels, test_size=0.3, random_state=42)\n",
    "val_videos, test_videos, val_labels, test_labels = train_test_split(temp_videos, temp_labels, test_size=0.5, random_state=42)"
   ]
  },
  {
   "cell_type": "code",
   "execution_count": 10,
   "id": "e7d8eefa",
   "metadata": {
    "execution": {
     "iopub.execute_input": "2024-06-13T22:50:58.311869Z",
     "iopub.status.busy": "2024-06-13T22:50:58.311612Z",
     "iopub.status.idle": "2024-06-13T22:50:58.316286Z",
     "shell.execute_reply": "2024-06-13T22:50:58.315502Z"
    },
    "papermill": {
     "duration": 0.015293,
     "end_time": "2024-06-13T22:50:58.318253",
     "exception": false,
     "start_time": "2024-06-13T22:50:58.302960",
     "status": "completed"
    },
    "tags": []
   },
   "outputs": [],
   "source": [
    "train_dataset = VideoDataset(train_videos, train_labels, transform=data_transforms, sequence_length=sequence_length)\n",
    "val_dataset = VideoDataset(val_videos, val_labels, transform=data_transforms, sequence_length=sequence_length)\n",
    "test_dataset = VideoDataset(test_videos, test_labels, transform=data_transforms, sequence_length=sequence_length)"
   ]
  },
  {
   "cell_type": "markdown",
   "id": "93a203a8",
   "metadata": {
    "papermill": {
     "duration": 0.006975,
     "end_time": "2024-06-13T22:50:58.332446",
     "exception": false,
     "start_time": "2024-06-13T22:50:58.325471",
     "status": "completed"
    },
    "tags": []
   },
   "source": [
    "# DataLoader"
   ]
  },
  {
   "cell_type": "code",
   "execution_count": 11,
   "id": "af2c3484",
   "metadata": {
    "execution": {
     "iopub.execute_input": "2024-06-13T22:50:58.347981Z",
     "iopub.status.busy": "2024-06-13T22:50:58.347689Z",
     "iopub.status.idle": "2024-06-13T22:50:58.352484Z",
     "shell.execute_reply": "2024-06-13T22:50:58.351681Z"
    },
    "papermill": {
     "duration": 0.014595,
     "end_time": "2024-06-13T22:50:58.354234",
     "exception": false,
     "start_time": "2024-06-13T22:50:58.339639",
     "status": "completed"
    },
    "tags": []
   },
   "outputs": [],
   "source": [
    "train_loader = DataLoader(train_dataset, batch_size=batch_size, shuffle=True, num_workers=4)\n",
    "val_loader = DataLoader(val_dataset, batch_size=batch_size, shuffle=False, num_workers=4)\n",
    "test_loader = DataLoader(test_dataset, batch_size=batch_size, shuffle=False, num_workers=4)"
   ]
  },
  {
   "cell_type": "markdown",
   "id": "d84d2822",
   "metadata": {
    "papermill": {
     "duration": 0.006968,
     "end_time": "2024-06-13T22:50:58.368451",
     "exception": false,
     "start_time": "2024-06-13T22:50:58.361483",
     "status": "completed"
    },
    "tags": []
   },
   "source": [
    "# Model"
   ]
  },
  {
   "cell_type": "code",
   "execution_count": 12,
   "id": "1c6986a1",
   "metadata": {
    "execution": {
     "iopub.execute_input": "2024-06-13T22:50:58.384050Z",
     "iopub.status.busy": "2024-06-13T22:50:58.383749Z",
     "iopub.status.idle": "2024-06-13T22:50:58.392256Z",
     "shell.execute_reply": "2024-06-13T22:50:58.391440Z"
    },
    "papermill": {
     "duration": 0.018493,
     "end_time": "2024-06-13T22:50:58.394093",
     "exception": false,
     "start_time": "2024-06-13T22:50:58.375600",
     "status": "completed"
    },
    "tags": []
   },
   "outputs": [],
   "source": [
    "class ResNetGRU(nn.Module):\n",
    "    def __init__(self, hidden_dim, num_classes, num_layers=1):\n",
    "        super(ResNetGRU, self).__init__()\n",
    "        self.hidden_dim = hidden_dim\n",
    "        self.num_layers = num_layers\n",
    "\n",
    "        # Load pre-trained ResNet50\n",
    "        self.resnet = models.resnet50(pretrained=True)\n",
    "        self.resnet.fc = nn.Identity()  # Remove the last fully connected layer\n",
    "\n",
    "        # GRU\n",
    "        self.gru = nn.GRU(input_size=2048, hidden_size=hidden_dim, num_layers=num_layers, batch_first=True)\n",
    "\n",
    "        # Fully connected layer for classification\n",
    "        self.fc = nn.Linear(hidden_dim, num_classes)\n",
    "\n",
    "    def forward(self, x):\n",
    "        batch_size, seq_length, c, h, w = x.size()\n",
    "\n",
    "        # Reshape to (batch_size * seq_length, c, h, w) to feed each frame into ResNet\n",
    "        x = x.view(batch_size * seq_length, c, h, w)\n",
    "        with torch.no_grad():\n",
    "            x = self.resnet(x)\n",
    "        \n",
    "        # Reshape back to (batch_size, seq_length, 2048) to feed into GRU\n",
    "        x = x.view(batch_size, seq_length, -1)\n",
    "\n",
    "        # GRU\n",
    "        h0 = torch.zeros(self.num_layers, batch_size, self.hidden_dim).to(x.device)\n",
    "        x, _ = self.gru(x, h0)\n",
    "\n",
    "        # Classification\n",
    "        x = self.fc(x[:, -1, :])  # Use the output of the last GRU cell\n",
    "\n",
    "        return x"
   ]
  },
  {
   "cell_type": "code",
   "execution_count": 13,
   "id": "c69decd6",
   "metadata": {
    "execution": {
     "iopub.execute_input": "2024-06-13T22:50:58.409422Z",
     "iopub.status.busy": "2024-06-13T22:50:58.409160Z",
     "iopub.status.idle": "2024-06-13T22:51:00.094296Z",
     "shell.execute_reply": "2024-06-13T22:51:00.093471Z"
    },
    "papermill": {
     "duration": 1.695284,
     "end_time": "2024-06-13T22:51:00.096553",
     "exception": false,
     "start_time": "2024-06-13T22:50:58.401269",
     "status": "completed"
    },
    "tags": []
   },
   "outputs": [
    {
     "name": "stderr",
     "output_type": "stream",
     "text": [
      "/opt/conda/lib/python3.10/site-packages/torchvision/models/_utils.py:208: UserWarning: The parameter 'pretrained' is deprecated since 0.13 and may be removed in the future, please use 'weights' instead.\n",
      "  warnings.warn(\n",
      "/opt/conda/lib/python3.10/site-packages/torchvision/models/_utils.py:223: UserWarning: Arguments other than a weight enum or `None` for 'weights' are deprecated since 0.13 and may be removed in the future. The current behavior is equivalent to passing `weights=ResNet50_Weights.IMAGENET1K_V1`. You can also use `weights=ResNet50_Weights.DEFAULT` to get the most up-to-date weights.\n",
      "  warnings.warn(msg)\n",
      "Downloading: \"https://download.pytorch.org/models/resnet50-0676ba61.pth\" to /root/.cache/torch/hub/checkpoints/resnet50-0676ba61.pth\n",
      "100%|██████████| 97.8M/97.8M [00:00<00:00, 173MB/s]\n"
     ]
    }
   ],
   "source": [
    "hidden_dim = 512\n",
    "num_classes = 2\n",
    "model = ResNetGRU(hidden_dim, num_classes).to(device)"
   ]
  },
  {
   "cell_type": "markdown",
   "id": "b37ee64d",
   "metadata": {
    "papermill": {
     "duration": 0.007952,
     "end_time": "2024-06-13T22:51:00.113057",
     "exception": false,
     "start_time": "2024-06-13T22:51:00.105105",
     "status": "completed"
    },
    "tags": []
   },
   "source": [
    "# loss function and optimizer"
   ]
  },
  {
   "cell_type": "code",
   "execution_count": 14,
   "id": "975eb4fb",
   "metadata": {
    "execution": {
     "iopub.execute_input": "2024-06-13T22:51:00.130333Z",
     "iopub.status.busy": "2024-06-13T22:51:00.130040Z",
     "iopub.status.idle": "2024-06-13T22:51:00.135323Z",
     "shell.execute_reply": "2024-06-13T22:51:00.134493Z"
    },
    "papermill": {
     "duration": 0.016224,
     "end_time": "2024-06-13T22:51:00.137268",
     "exception": false,
     "start_time": "2024-06-13T22:51:00.121044",
     "status": "completed"
    },
    "tags": []
   },
   "outputs": [],
   "source": [
    "criterion = nn.CrossEntropyLoss()\n",
    "optimizer = optim.Adam(model.parameters(), lr=learning_rate)"
   ]
  },
  {
   "cell_type": "markdown",
   "id": "5df2f55f",
   "metadata": {
    "papermill": {
     "duration": 0.007835,
     "end_time": "2024-06-13T22:51:00.153242",
     "exception": false,
     "start_time": "2024-06-13T22:51:00.145407",
     "status": "completed"
    },
    "tags": []
   },
   "source": [
    "# Training "
   ]
  },
  {
   "cell_type": "code",
   "execution_count": 15,
   "id": "b44a6128",
   "metadata": {
    "execution": {
     "iopub.execute_input": "2024-06-13T22:51:00.170837Z",
     "iopub.status.busy": "2024-06-13T22:51:00.170564Z",
     "iopub.status.idle": "2024-06-13T22:51:00.182249Z",
     "shell.execute_reply": "2024-06-13T22:51:00.181433Z"
    },
    "papermill": {
     "duration": 0.022719,
     "end_time": "2024-06-13T22:51:00.183995",
     "exception": false,
     "start_time": "2024-06-13T22:51:00.161276",
     "status": "completed"
    },
    "tags": []
   },
   "outputs": [],
   "source": [
    "def train_model(model, criterion, optimizer, train_loader, val_loader, num_epochs=25):\n",
    "    train_loss_history = []\n",
    "    train_acc_history = []\n",
    "    val_loss_history = []\n",
    "    val_acc_history = []\n",
    "\n",
    "    for epoch in range(num_epochs):\n",
    "        model.train()\n",
    "        running_loss = 0.0\n",
    "        running_corrects = 0\n",
    "\n",
    "        for inputs, labels in train_loader:\n",
    "            inputs = inputs.to(device)\n",
    "            labels = labels.to(device)\n",
    "\n",
    "            optimizer.zero_grad()\n",
    "\n",
    "            outputs = model(inputs)\n",
    "            _, preds = torch.max(outputs, 1)\n",
    "            loss = criterion(outputs, labels)\n",
    "\n",
    "            loss.backward()\n",
    "            optimizer.step()\n",
    "\n",
    "            running_loss += loss.item() * inputs.size(0)\n",
    "            running_corrects += torch.sum(preds == labels.data)\n",
    "\n",
    "        epoch_loss = running_loss / len(train_loader.dataset)\n",
    "        epoch_acc = running_corrects.double() / len(train_loader.dataset)\n",
    "        train_loss_history.append(epoch_loss)\n",
    "        train_acc_history.append(epoch_acc.item())\n",
    "\n",
    "        # Validation phase\n",
    "        model.eval()\n",
    "        val_running_loss = 0.0\n",
    "        val_running_corrects = 0\n",
    "\n",
    "        with torch.no_grad():\n",
    "            for inputs, labels in val_loader:\n",
    "                inputs = inputs.to(device)\n",
    "                labels = labels.to(device)\n",
    "\n",
    "                outputs = model(inputs)\n",
    "                _, preds = torch.max(outputs, 1)\n",
    "                loss = criterion(outputs, labels)\n",
    "\n",
    "                val_running_loss += loss.item() * inputs.size(0)\n",
    "                val_running_corrects += torch.sum(preds == labels.data)\n",
    "\n",
    "        val_epoch_loss = val_running_loss / len(val_loader.dataset)\n",
    "        val_epoch_acc = val_running_corrects.double() / len(val_loader.dataset)\n",
    "        val_loss_history.append(val_epoch_loss)\n",
    "        val_acc_history.append(val_epoch_acc.item())\n",
    "\n",
    "        print(f'Epoch {epoch}/{num_epochs}, Loss: {epoch_loss:.4f}, Acc: {epoch_acc:.4f}, Val Loss: {val_epoch_loss:.4f}, Val Acc: {val_epoch_acc:.4f}')\n",
    "\n",
    "    return model, train_loss_history, train_acc_history, val_loss_history, val_acc_history"
   ]
  },
  {
   "cell_type": "code",
   "execution_count": 16,
   "id": "1c8f23e5",
   "metadata": {
    "execution": {
     "iopub.execute_input": "2024-06-13T22:51:00.202538Z",
     "iopub.status.busy": "2024-06-13T22:51:00.202263Z",
     "iopub.status.idle": "2024-06-13T23:10:46.093709Z",
     "shell.execute_reply": "2024-06-13T23:10:46.092451Z"
    },
    "papermill": {
     "duration": 1185.902905,
     "end_time": "2024-06-13T23:10:46.095824",
     "exception": false,
     "start_time": "2024-06-13T22:51:00.192919",
     "status": "completed"
    },
    "tags": []
   },
   "outputs": [
    {
     "name": "stderr",
     "output_type": "stream",
     "text": [
      "[h264 @ 0x5947de7e3c00] mb_type 104 in P slice too large at 98 31\n",
      "[h264 @ 0x5947de7e3c00] error while decoding MB 98 31\n"
     ]
    },
    {
     "name": "stdout",
     "output_type": "stream",
     "text": [
      "Epoch 0/10, Loss: 0.4315, Acc: 0.8021, Val Loss: 0.2027, Val Acc: 0.9233\n"
     ]
    },
    {
     "name": "stderr",
     "output_type": "stream",
     "text": [
      "[h264 @ 0x5947deef6c80] mb_type 104 in P slice too large at 98 31\n",
      "[h264 @ 0x5947deef6c80] error while decoding MB 98 31\n"
     ]
    },
    {
     "name": "stdout",
     "output_type": "stream",
     "text": [
      "Epoch 1/10, Loss: 0.3484, Acc: 0.8564, Val Loss: 0.2222, Val Acc: 0.9233\n"
     ]
    },
    {
     "name": "stderr",
     "output_type": "stream",
     "text": [
      "[h264 @ 0x5947def8ee40] mb_type 104 in P slice too large at 98 31\n",
      "[h264 @ 0x5947def8ee40] error while decoding MB 98 31\n"
     ]
    },
    {
     "name": "stdout",
     "output_type": "stream",
     "text": [
      "Epoch 2/10, Loss: 0.2592, Acc: 0.9007, Val Loss: 0.4673, Val Acc: 0.7533\n"
     ]
    },
    {
     "name": "stderr",
     "output_type": "stream",
     "text": [
      "[h264 @ 0x5947ded290c0] mb_type 104 in P slice too large at 98 31\n",
      "[h264 @ 0x5947ded290c0] error while decoding MB 98 31\n"
     ]
    },
    {
     "name": "stdout",
     "output_type": "stream",
     "text": [
      "Epoch 3/10, Loss: 0.3260, Acc: 0.8657, Val Loss: 0.2869, Val Acc: 0.8733\n"
     ]
    },
    {
     "name": "stderr",
     "output_type": "stream",
     "text": [
      "[h264 @ 0x5947dee10d80] mb_type 104 in P slice too large at 98 31\n",
      "[h264 @ 0x5947dee10d80] error while decoding MB 98 31\n"
     ]
    },
    {
     "name": "stdout",
     "output_type": "stream",
     "text": [
      "Epoch 4/10, Loss: 0.3036, Acc: 0.8686, Val Loss: 0.1615, Val Acc: 0.9633\n"
     ]
    },
    {
     "name": "stderr",
     "output_type": "stream",
     "text": [
      "[h264 @ 0x5947deec5f00] mb_type 104 in P slice too large at 98 31\n",
      "[h264 @ 0x5947deec5f00] error while decoding MB 98 31\n"
     ]
    },
    {
     "name": "stdout",
     "output_type": "stream",
     "text": [
      "Epoch 5/10, Loss: 0.2043, Acc: 0.9207, Val Loss: 0.1394, Val Acc: 0.9467\n"
     ]
    },
    {
     "name": "stderr",
     "output_type": "stream",
     "text": [
      "[h264 @ 0x5947defb7400] mb_type 104 in P slice too large at 98 31\n",
      "[h264 @ 0x5947defb7400] error while decoding MB 98 31\n"
     ]
    },
    {
     "name": "stdout",
     "output_type": "stream",
     "text": [
      "Epoch 6/10, Loss: 0.2579, Acc: 0.8879, Val Loss: 0.2526, Val Acc: 0.8867\n"
     ]
    },
    {
     "name": "stderr",
     "output_type": "stream",
     "text": [
      "[h264 @ 0x5947defa7d00] mb_type 104 in P slice too large at 98 31\n",
      "[h264 @ 0x5947defa7d00] error while decoding MB 98 31\n"
     ]
    },
    {
     "name": "stdout",
     "output_type": "stream",
     "text": [
      "Epoch 7/10, Loss: 0.1951, Acc: 0.9200, Val Loss: 0.1523, Val Acc: 0.9467\n"
     ]
    },
    {
     "name": "stderr",
     "output_type": "stream",
     "text": [
      "[h264 @ 0x5947def91a40] mb_type 104 in P slice too large at 98 31\n",
      "[h264 @ 0x5947def91a40] error while decoding MB 98 31\n"
     ]
    },
    {
     "name": "stdout",
     "output_type": "stream",
     "text": [
      "Epoch 8/10, Loss: 0.1777, Acc: 0.9257, Val Loss: 0.2572, Val Acc: 0.8833\n"
     ]
    },
    {
     "name": "stderr",
     "output_type": "stream",
     "text": [
      "[h264 @ 0x5947deb40ac0] mb_type 104 in P slice too large at 98 31\n",
      "[h264 @ 0x5947deb40ac0] error while decoding MB 98 31\n"
     ]
    },
    {
     "name": "stdout",
     "output_type": "stream",
     "text": [
      "Epoch 9/10, Loss: 0.2131, Acc: 0.9136, Val Loss: 0.1827, Val Acc: 0.9367\n"
     ]
    }
   ],
   "source": [
    "model, train_loss_history, train_acc_history, val_loss_history, val_acc_history = train_model(model, criterion, optimizer, train_loader, val_loader, epochs)"
   ]
  },
  {
   "cell_type": "markdown",
   "id": "f52d528c",
   "metadata": {
    "papermill": {
     "duration": 0.009704,
     "end_time": "2024-06-13T23:10:46.115701",
     "exception": false,
     "start_time": "2024-06-13T23:10:46.105997",
     "status": "completed"
    },
    "tags": []
   },
   "source": [
    "# Evaluate "
   ]
  },
  {
   "cell_type": "code",
   "execution_count": 17,
   "id": "5930d5b9",
   "metadata": {
    "execution": {
     "iopub.execute_input": "2024-06-13T23:10:46.136496Z",
     "iopub.status.busy": "2024-06-13T23:10:46.136172Z",
     "iopub.status.idle": "2024-06-13T23:11:09.769126Z",
     "shell.execute_reply": "2024-06-13T23:11:09.767774Z"
    },
    "papermill": {
     "duration": 23.645856,
     "end_time": "2024-06-13T23:11:09.771154",
     "exception": false,
     "start_time": "2024-06-13T23:10:46.125298",
     "status": "completed"
    },
    "tags": []
   },
   "outputs": [
    {
     "name": "stdout",
     "output_type": "stream",
     "text": [
      "Test Accuracy: 0.9200\n"
     ]
    }
   ],
   "source": [
    "model.eval()\n",
    "test_corrects = 0\n",
    "\n",
    "with torch.no_grad():\n",
    "    for inputs, labels in test_loader:\n",
    "        inputs = inputs.to(device)\n",
    "        labels = labels.to(device)\n",
    "\n",
    "        outputs = model(inputs)\n",
    "        _, preds = torch.max(outputs, 1)\n",
    "        test_corrects += torch.sum(preds == labels.data)\n",
    "\n",
    "test_acc = test_corrects.double() / len(test_loader.dataset)\n",
    "print(f'Test Accuracy: {test_acc:.4f}')"
   ]
  },
  {
   "cell_type": "markdown",
   "id": "0a7b5e95",
   "metadata": {
    "papermill": {
     "duration": 0.009807,
     "end_time": "2024-06-13T23:11:09.791104",
     "exception": false,
     "start_time": "2024-06-13T23:11:09.781297",
     "status": "completed"
    },
    "tags": []
   },
   "source": [
    "# Plotting"
   ]
  },
  {
   "cell_type": "code",
   "execution_count": 18,
   "id": "1c8fc8d7",
   "metadata": {
    "execution": {
     "iopub.execute_input": "2024-06-13T23:11:09.812126Z",
     "iopub.status.busy": "2024-06-13T23:11:09.811784Z",
     "iopub.status.idle": "2024-06-13T23:11:10.296780Z",
     "shell.execute_reply": "2024-06-13T23:11:10.295574Z"
    },
    "papermill": {
     "duration": 0.498645,
     "end_time": "2024-06-13T23:11:10.299644",
     "exception": false,
     "start_time": "2024-06-13T23:11:09.800999",
     "status": "completed"
    },
    "tags": []
   },
   "outputs": [
    {
     "data": {
      "image/png": "[encoded data removed]",
      "text/plain": [
       "<Figure size 1200x400 with 2 Axes>"
      ]
     },
     "metadata": {},
     "output_type": "display_data"
    }
   ],
   "source": [
    "epochs_range = range(epochs)\n",
    "\n",
    "plt.figure(figsize=(12, 4))\n",
    "plt.subplot(1, 2, 1)\n",
    "plt.plot(epochs_range, train_loss_history, label='Train Loss')\n",
    "plt.plot(epochs_range, val_loss_history, label='Val Loss')\n",
    "plt.xlabel('Epochs')\n",
    "plt.ylabel('Loss')\n",
    "plt.legend(loc='upper right')\n",
    "plt.title('Training and Validation Loss')\n",
    "\n",
    "plt.subplot(1, 2, 2)\n",
    "plt.plot(epochs_range, train_acc_history, label='Train Accuracy')\n",
    "plt.plot(epochs_range, val_acc_history, label='Val Accuracy')\n",
    "plt.xlabel('Epochs')\n",
    "plt.ylabel('Accuracy')\n",
    "plt.legend(loc='lower right')\n",
    "plt.title('Training and Validation Accuracy')\n",
    "\n",
    "plt.show()"
   ]
  }
 ],
 "metadata": {
  "kaggle": {
   "accelerator": "nvidiaTeslaT4",
   "dataSources": [
    {
     "datasetId": 176381,
     "sourceId": 397693,
     "sourceType": "datasetVersion"
    }
   ],
   "dockerImageVersionId": 30733,
   "isGpuEnabled": true,
   "isInternetEnabled": true,
   "language": "python",
   "sourceType": "notebook"
  },
  "kernelspec": {
   "display_name": "Python 3",
   "language": "python",
   "name": "python3"
  },
  "language_info": {
   "codemirror_mode": {
    "name": "ipython",
    "version": 3
   },
   "file_extension": ".py",
   "mimetype": "text/x-python",
   "name": "python",
   "nbconvert_exporter": "python",
   "pygments_lexer": "ipython3",
   "version": "3.10.13"
  },
  "papermill": {
   "default_parameters": {},
   "duration": 1224.720286,
   "end_time": "2024-06-13T23:11:11.938066",
   "environment_variables": {},
   "exception": null,
   "input_path": "__notebook__.ipynb",
   "output_path": "__notebook__.ipynb",
   "parameters": {},
   "start_time": "2024-06-13T22:50:47.217780",
   "version": "2.5.0"
  }
 },
 "nbformat": 4,
 "nbformat_minor": 5
}
