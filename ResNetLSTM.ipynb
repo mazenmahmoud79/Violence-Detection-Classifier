{
 "cells": [
  {
   "cell_type": "code",
   "execution_count": 1,
   "id": "e92b8f5b",
   "metadata": {
    "_cell_guid": "b1076dfc-b9ad-4769-8c92-a6c4dae69d19",
    "_uuid": "8f2839f25d086af736a60e9eeb907d3b93b6e0e5",
    "execution": {
     "iopub.execute_input": "2024-06-13T22:25:47.879697Z",
     "iopub.status.busy": "2024-06-13T22:25:47.879350Z",
     "iopub.status.idle": "2024-06-13T22:25:59.756162Z",
     "shell.execute_reply": "2024-06-13T22:25:59.755140Z"
    },
    "papermill": {
     "duration": 11.889171,
     "end_time": "2024-06-13T22:25:59.758549",
     "exception": false,
     "start_time": "2024-06-13T22:25:47.869378",
     "status": "completed"
    },
    "tags": []
   },
   "outputs": [],
   "source": [
    "import os\n",
    "import cv2\n",
    "import torch\n",
    "import torch.nn as nn\n",
    "import torch.optim as optim\n",
    "from torchvision import models, transforms\n",
    "from torch.utils.data import DataLoader, Dataset\n",
    "from sklearn.model_selection import train_test_split\n",
    "import matplotlib.pyplot as plt"
   ]
  },
  {
   "cell_type": "markdown",
   "id": "1fe886bd",
   "metadata": {
    "papermill": {
     "duration": 0.007523,
     "end_time": "2024-06-13T22:25:59.774473",
     "exception": false,
     "start_time": "2024-06-13T22:25:59.766950",
     "status": "completed"
    },
    "tags": []
   },
   "source": [
    "# Parameters"
   ]
  },
  {
   "cell_type": "code",
   "execution_count": 2,
   "id": "fe754ea9",
   "metadata": {
    "execution": {
     "iopub.execute_input": "2024-06-13T22:25:59.791765Z",
     "iopub.status.busy": "2024-06-13T22:25:59.790869Z",
     "iopub.status.idle": "2024-06-13T22:25:59.796140Z",
     "shell.execute_reply": "2024-06-13T22:25:59.795338Z"
    },
    "papermill": {
     "duration": 0.016055,
     "end_time": "2024-06-13T22:25:59.797880",
     "exception": false,
     "start_time": "2024-06-13T22:25:59.781825",
     "status": "completed"
    },
    "tags": []
   },
   "outputs": [],
   "source": [
    "img_height, img_width = 224, 224\n",
    "batch_size = 16\n",
    "epochs = 10\n",
    "learning_rate = 0.001\n",
    "sequence_length = 10  # Number of frames to consider in each sequence\n",
    "dataset_path = '/kaggle/input/real-life-violence-situations-dataset/Real Life Violence Dataset'"
   ]
  },
  {
   "cell_type": "markdown",
   "id": "25c3780a",
   "metadata": {
    "papermill": {
     "duration": 0.007451,
     "end_time": "2024-06-13T22:25:59.812939",
     "exception": false,
     "start_time": "2024-06-13T22:25:59.805488",
     "status": "completed"
    },
    "tags": []
   },
   "source": [
    "# Device configuration"
   ]
  },
  {
   "cell_type": "code",
   "execution_count": 3,
   "id": "a647b54f",
   "metadata": {
    "execution": {
     "iopub.execute_input": "2024-06-13T22:25:59.829070Z",
     "iopub.status.busy": "2024-06-13T22:25:59.828365Z",
     "iopub.status.idle": "2024-06-13T22:25:59.906420Z",
     "shell.execute_reply": "2024-06-13T22:25:59.905509Z"
    },
    "papermill": {
     "duration": 0.088141,
     "end_time": "2024-06-13T22:25:59.908359",
     "exception": false,
     "start_time": "2024-06-13T22:25:59.820218",
     "status": "completed"
    },
    "tags": []
   },
   "outputs": [],
   "source": [
    "device = torch.device('cuda' if torch.cuda.is_available() else 'cpu')"
   ]
  },
  {
   "cell_type": "code",
   "execution_count": 4,
   "id": "c5bc407d",
   "metadata": {
    "execution": {
     "iopub.execute_input": "2024-06-13T22:25:59.924627Z",
     "iopub.status.busy": "2024-06-13T22:25:59.924358Z",
     "iopub.status.idle": "2024-06-13T22:25:59.935380Z",
     "shell.execute_reply": "2024-06-13T22:25:59.934636Z"
    },
    "papermill": {
     "duration": 0.021148,
     "end_time": "2024-06-13T22:25:59.937264",
     "exception": false,
     "start_time": "2024-06-13T22:25:59.916116",
     "status": "completed"
    },
    "tags": []
   },
   "outputs": [
    {
     "name": "stdout",
     "output_type": "stream",
     "text": [
      "cuda\n"
     ]
    }
   ],
   "source": [
    "print(device)"
   ]
  },
  {
   "cell_type": "markdown",
   "id": "80a75f25",
   "metadata": {
    "papermill": {
     "duration": 0.008295,
     "end_time": "2024-06-13T22:25:59.953177",
     "exception": false,
     "start_time": "2024-06-13T22:25:59.944882",
     "status": "completed"
    },
    "tags": []
   },
   "source": [
    "# transformations"
   ]
  },
  {
   "cell_type": "code",
   "execution_count": 5,
   "id": "cd2ccdd1",
   "metadata": {
    "execution": {
     "iopub.execute_input": "2024-06-13T22:25:59.969576Z",
     "iopub.status.busy": "2024-06-13T22:25:59.969059Z",
     "iopub.status.idle": "2024-06-13T22:25:59.973729Z",
     "shell.execute_reply": "2024-06-13T22:25:59.972940Z"
    },
    "papermill": {
     "duration": 0.014863,
     "end_time": "2024-06-13T22:25:59.975475",
     "exception": false,
     "start_time": "2024-06-13T22:25:59.960612",
     "status": "completed"
    },
    "tags": []
   },
   "outputs": [],
   "source": [
    "data_transforms = transforms.Compose([\n",
    "    transforms.ToPILImage(),\n",
    "    transforms.Resize((img_height, img_width)),\n",
    "    transforms.ToTensor(),\n",
    "    transforms.Normalize([0.485, 0.456, 0.406], [0.229, 0.224, 0.225])\n",
    "])"
   ]
  },
  {
   "cell_type": "markdown",
   "id": "e3e79bc3",
   "metadata": {
    "papermill": {
     "duration": 0.007278,
     "end_time": "2024-06-13T22:25:59.990180",
     "exception": false,
     "start_time": "2024-06-13T22:25:59.982902",
     "status": "completed"
    },
    "tags": []
   },
   "source": [
    "# extract frames from a video"
   ]
  },
  {
   "cell_type": "code",
   "execution_count": 6,
   "id": "22b547f2",
   "metadata": {
    "execution": {
     "iopub.execute_input": "2024-06-13T22:26:00.006061Z",
     "iopub.status.busy": "2024-06-13T22:26:00.005794Z",
     "iopub.status.idle": "2024-06-13T22:26:00.013007Z",
     "shell.execute_reply": "2024-06-13T22:26:00.012091Z"
    },
    "papermill": {
     "duration": 0.01732,
     "end_time": "2024-06-13T22:26:00.014896",
     "exception": false,
     "start_time": "2024-06-13T22:25:59.997576",
     "status": "completed"
    },
    "tags": []
   },
   "outputs": [],
   "source": [
    "def extract_frames(video_path, sequence_length, interval=10):\n",
    "    cap = cv2.VideoCapture(video_path)\n",
    "    frames = []\n",
    "    frame_count = 0\n",
    "    while len(frames) < sequence_length:\n",
    "        ret, frame = cap.read()\n",
    "        if not ret:\n",
    "            break\n",
    "        if frame_count % interval == 0:\n",
    "            frame = cv2.resize(frame, (img_height, img_width))\n",
    "            frames.append(frame)\n",
    "        frame_count += 1\n",
    "    cap.release()\n",
    "\n",
    "    # Handle cases where there are fewer frames than sequence_length\n",
    "    if len(frames) < sequence_length:\n",
    "        while len(frames) < sequence_length:\n",
    "            frames.append(frames[-1] if frames else cv2.resize(np.zeros((img_height, img_width, 3), dtype=np.uint8), (img_height, img_width)))\n",
    "    else:\n",
    "        frames = frames[:sequence_length]\n",
    "\n",
    "    return frames"
   ]
  },
  {
   "cell_type": "markdown",
   "id": "c2246402",
   "metadata": {
    "papermill": {
     "duration": 0.007347,
     "end_time": "2024-06-13T22:26:00.029635",
     "exception": false,
     "start_time": "2024-06-13T22:26:00.022288",
     "status": "completed"
    },
    "tags": []
   },
   "source": [
    "# Dataset"
   ]
  },
  {
   "cell_type": "code",
   "execution_count": 7,
   "id": "010e6f95",
   "metadata": {
    "execution": {
     "iopub.execute_input": "2024-06-13T22:26:00.045795Z",
     "iopub.status.busy": "2024-06-13T22:26:00.045532Z",
     "iopub.status.idle": "2024-06-13T22:26:00.051903Z",
     "shell.execute_reply": "2024-06-13T22:26:00.051032Z"
    },
    "papermill": {
     "duration": 0.016658,
     "end_time": "2024-06-13T22:26:00.053819",
     "exception": false,
     "start_time": "2024-06-13T22:26:00.037161",
     "status": "completed"
    },
    "tags": []
   },
   "outputs": [],
   "source": [
    "class VideoDataset(Dataset):\n",
    "    def __init__(self, video_files, labels, transform=None, sequence_length=10):\n",
    "        self.video_files = video_files\n",
    "        self.labels = labels\n",
    "        self.transform = transform\n",
    "        self.sequence_length = sequence_length\n",
    "\n",
    "    def __len__(self):\n",
    "        return len(self.video_files)\n",
    "\n",
    "    def __getitem__(self, idx):\n",
    "        frames = extract_frames(self.video_files[idx], self.sequence_length)\n",
    "        if self.transform:\n",
    "            frames = [self.transform(frame) for frame in frames]\n",
    "        label = self.labels[idx]\n",
    "        return torch.stack(frames), label"
   ]
  },
  {
   "cell_type": "markdown",
   "id": "d5c8b069",
   "metadata": {
    "papermill": {
     "duration": 0.008056,
     "end_time": "2024-06-13T22:26:00.069183",
     "exception": false,
     "start_time": "2024-06-13T22:26:00.061127",
     "status": "completed"
    },
    "tags": []
   },
   "source": [
    "# Load dataset"
   ]
  },
  {
   "cell_type": "code",
   "execution_count": 8,
   "id": "70ccbd8c",
   "metadata": {
    "execution": {
     "iopub.execute_input": "2024-06-13T22:26:00.087389Z",
     "iopub.status.busy": "2024-06-13T22:26:00.086529Z",
     "iopub.status.idle": "2024-06-13T22:26:00.093161Z",
     "shell.execute_reply": "2024-06-13T22:26:00.092198Z"
    },
    "papermill": {
     "duration": 0.01818,
     "end_time": "2024-06-13T22:26:00.095431",
     "exception": false,
     "start_time": "2024-06-13T22:26:00.077251",
     "status": "completed"
    },
    "tags": []
   },
   "outputs": [],
   "source": [
    "def load_dataset(dataset_path):\n",
    "    video_files = []\n",
    "    labels = []\n",
    "    classes = os.listdir(dataset_path)\n",
    "    for label, class_name in enumerate(classes):\n",
    "        class_path = os.path.join(dataset_path, class_name)\n",
    "        videos = os.listdir(class_path)\n",
    "        for video_name in videos:\n",
    "            video_path = os.path.join(class_path, video_name)\n",
    "            video_files.append(video_path)\n",
    "            labels.append(label)\n",
    "    return video_files, labels"
   ]
  },
  {
   "cell_type": "markdown",
   "id": "3fe20fbb",
   "metadata": {
    "papermill": {
     "duration": 0.008464,
     "end_time": "2024-06-13T22:26:00.112642",
     "exception": false,
     "start_time": "2024-06-13T22:26:00.104178",
     "status": "completed"
    },
    "tags": []
   },
   "source": [
    "# Split"
   ]
  },
  {
   "cell_type": "code",
   "execution_count": 9,
   "id": "060fe875",
   "metadata": {
    "execution": {
     "iopub.execute_input": "2024-06-13T22:26:00.131672Z",
     "iopub.status.busy": "2024-06-13T22:26:00.131131Z",
     "iopub.status.idle": "2024-06-13T22:26:00.436089Z",
     "shell.execute_reply": "2024-06-13T22:26:00.435259Z"
    },
    "papermill": {
     "duration": 0.317607,
     "end_time": "2024-06-13T22:26:00.438530",
     "exception": false,
     "start_time": "2024-06-13T22:26:00.120923",
     "status": "completed"
    },
    "tags": []
   },
   "outputs": [],
   "source": [
    "video_files, labels = load_dataset(dataset_path)\n",
    "train_videos, temp_videos, train_labels, temp_labels = train_test_split(video_files, labels, test_size=0.3, random_state=42)\n",
    "val_videos, test_videos, val_labels, test_labels = train_test_split(temp_videos, temp_labels, test_size=0.5, random_state=42)"
   ]
  },
  {
   "cell_type": "code",
   "execution_count": 10,
   "id": "8943157e",
   "metadata": {
    "execution": {
     "iopub.execute_input": "2024-06-13T22:26:00.457118Z",
     "iopub.status.busy": "2024-06-13T22:26:00.456798Z",
     "iopub.status.idle": "2024-06-13T22:26:00.461877Z",
     "shell.execute_reply": "2024-06-13T22:26:00.460941Z"
    },
    "papermill": {
     "duration": 0.016477,
     "end_time": "2024-06-13T22:26:00.463910",
     "exception": false,
     "start_time": "2024-06-13T22:26:00.447433",
     "status": "completed"
    },
    "tags": []
   },
   "outputs": [],
   "source": [
    "train_dataset = VideoDataset(train_videos, train_labels, transform=data_transforms, sequence_length=sequence_length)\n",
    "val_dataset = VideoDataset(val_videos, val_labels, transform=data_transforms, sequence_length=sequence_length)\n",
    "test_dataset = VideoDataset(test_videos, test_labels, transform=data_transforms, sequence_length=sequence_length)"
   ]
  },
  {
   "cell_type": "markdown",
   "id": "9fbb489a",
   "metadata": {
    "papermill": {
     "duration": 0.007359,
     "end_time": "2024-06-13T22:26:00.479046",
     "exception": false,
     "start_time": "2024-06-13T22:26:00.471687",
     "status": "completed"
    },
    "tags": []
   },
   "source": [
    "# DataLoader"
   ]
  },
  {
   "cell_type": "code",
   "execution_count": 11,
   "id": "992a0c36",
   "metadata": {
    "execution": {
     "iopub.execute_input": "2024-06-13T22:26:00.496575Z",
     "iopub.status.busy": "2024-06-13T22:26:00.496270Z",
     "iopub.status.idle": "2024-06-13T22:26:00.501589Z",
     "shell.execute_reply": "2024-06-13T22:26:00.500712Z"
    },
    "papermill": {
     "duration": 0.016663,
     "end_time": "2024-06-13T22:26:00.503689",
     "exception": false,
     "start_time": "2024-06-13T22:26:00.487026",
     "status": "completed"
    },
    "tags": []
   },
   "outputs": [],
   "source": [
    "train_loader = DataLoader(train_dataset, batch_size=batch_size, shuffle=True, num_workers=4)\n",
    "val_loader = DataLoader(val_dataset, batch_size=batch_size, shuffle=False, num_workers=4)\n",
    "test_loader = DataLoader(test_dataset, batch_size=batch_size, shuffle=False, num_workers=4)"
   ]
  },
  {
   "cell_type": "markdown",
   "id": "a80d5c97",
   "metadata": {
    "papermill": {
     "duration": 0.008053,
     "end_time": "2024-06-13T22:26:00.520205",
     "exception": false,
     "start_time": "2024-06-13T22:26:00.512152",
     "status": "completed"
    },
    "tags": []
   },
   "source": [
    "# Model"
   ]
  },
  {
   "cell_type": "code",
   "execution_count": 12,
   "id": "fcd5e2e2",
   "metadata": {
    "execution": {
     "iopub.execute_input": "2024-06-13T22:26:00.538568Z",
     "iopub.status.busy": "2024-06-13T22:26:00.537627Z",
     "iopub.status.idle": "2024-06-13T22:26:00.548406Z",
     "shell.execute_reply": "2024-06-13T22:26:00.547383Z"
    },
    "papermill": {
     "duration": 0.022199,
     "end_time": "2024-06-13T22:26:00.550574",
     "exception": false,
     "start_time": "2024-06-13T22:26:00.528375",
     "status": "completed"
    },
    "tags": []
   },
   "outputs": [],
   "source": [
    "class ResNetLSTM(nn.Module):\n",
    "    def __init__(self, hidden_dim, num_classes, num_layers=1):\n",
    "        super(ResNetLSTM, self).__init__()\n",
    "        self.hidden_dim = hidden_dim\n",
    "        self.num_layers = num_layers\n",
    "\n",
    "        # Load pre-trained ResNet50\n",
    "        self.resnet = models.resnet50(weights=models.ResNet50_Weights.DEFAULT)\n",
    "        self.resnet.fc = nn.Identity()  # Remove the last fully connected layer\n",
    "\n",
    "        # LSTM\n",
    "        self.lstm = nn.LSTM(input_size=2048, hidden_size=hidden_dim, num_layers=num_layers, batch_first=True)\n",
    "\n",
    "        # Fully connected layer for classification\n",
    "        self.fc = nn.Linear(hidden_dim, num_classes)\n",
    "\n",
    "    def forward(self, x):\n",
    "        batch_size, seq_length, c, h, w = x.size()\n",
    "\n",
    "        # Reshape to (batch_size * seq_length, c, h, w) to feed each frame into ResNet\n",
    "        x = x.view(batch_size * seq_length, c, h, w)\n",
    "        with torch.no_grad():\n",
    "            x = self.resnet(x)\n",
    "        \n",
    "        # Reshape back to (batch_size, seq_length, 2048) to feed into LSTM\n",
    "        x = x.view(batch_size, seq_length, -1)\n",
    "\n",
    "        # LSTM\n",
    "        h0 = torch.zeros(self.num_layers, batch_size, self.hidden_dim).to(device)\n",
    "        c0 = torch.zeros(self.num_layers, batch_size, self.hidden_dim).to(device)\n",
    "        x, _ = self.lstm(x, (h0, c0))\n",
    "\n",
    "        # Classification\n",
    "        x = self.fc(x[:, -1, :])  # Use the output of the last LSTM cell\n",
    "\n",
    "        return x"
   ]
  },
  {
   "cell_type": "code",
   "execution_count": 13,
   "id": "0671d4fe",
   "metadata": {
    "execution": {
     "iopub.execute_input": "2024-06-13T22:26:00.568264Z",
     "iopub.status.busy": "2024-06-13T22:26:00.567525Z",
     "iopub.status.idle": "2024-06-13T22:26:02.610413Z",
     "shell.execute_reply": "2024-06-13T22:26:02.609472Z"
    },
    "papermill": {
     "duration": 2.054114,
     "end_time": "2024-06-13T22:26:02.612881",
     "exception": false,
     "start_time": "2024-06-13T22:26:00.558767",
     "status": "completed"
    },
    "tags": []
   },
   "outputs": [
    {
     "name": "stderr",
     "output_type": "stream",
     "text": [
      "Downloading: \"https://download.pytorch.org/models/resnet50-11ad3fa6.pth\" to /root/.cache/torch/hub/checkpoints/resnet50-11ad3fa6.pth\n",
      "100%|██████████| 97.8M/97.8M [00:00<00:00, 142MB/s]\n"
     ]
    }
   ],
   "source": [
    "hidden_dim = 512\n",
    "num_classes = 2\n",
    "model = ResNetLSTM(hidden_dim, num_classes).to(device)"
   ]
  },
  {
   "cell_type": "markdown",
   "id": "c223082a",
   "metadata": {
    "papermill": {
     "duration": 0.009202,
     "end_time": "2024-06-13T22:26:02.630694",
     "exception": false,
     "start_time": "2024-06-13T22:26:02.621492",
     "status": "completed"
    },
    "tags": []
   },
   "source": [
    "# loss function and optimizer"
   ]
  },
  {
   "cell_type": "code",
   "execution_count": 14,
   "id": "7b2cdbf6",
   "metadata": {
    "execution": {
     "iopub.execute_input": "2024-06-13T22:26:02.648698Z",
     "iopub.status.busy": "2024-06-13T22:26:02.648409Z",
     "iopub.status.idle": "2024-06-13T22:26:02.653890Z",
     "shell.execute_reply": "2024-06-13T22:26:02.653048Z"
    },
    "papermill": {
     "duration": 0.016801,
     "end_time": "2024-06-13T22:26:02.655868",
     "exception": false,
     "start_time": "2024-06-13T22:26:02.639067",
     "status": "completed"
    },
    "tags": []
   },
   "outputs": [],
   "source": [
    "criterion = nn.CrossEntropyLoss()\n",
    "optimizer = optim.Adam(model.parameters(), lr=learning_rate)"
   ]
  },
  {
   "cell_type": "markdown",
   "id": "ca995bb8",
   "metadata": {
    "papermill": {
     "duration": 0.008098,
     "end_time": "2024-06-13T22:26:02.672355",
     "exception": false,
     "start_time": "2024-06-13T22:26:02.664257",
     "status": "completed"
    },
    "tags": []
   },
   "source": [
    "# Training "
   ]
  },
  {
   "cell_type": "code",
   "execution_count": 15,
   "id": "3318d349",
   "metadata": {
    "execution": {
     "iopub.execute_input": "2024-06-13T22:26:02.690475Z",
     "iopub.status.busy": "2024-06-13T22:26:02.690203Z",
     "iopub.status.idle": "2024-06-13T22:26:02.702771Z",
     "shell.execute_reply": "2024-06-13T22:26:02.701776Z"
    },
    "papermill": {
     "duration": 0.024007,
     "end_time": "2024-06-13T22:26:02.704655",
     "exception": false,
     "start_time": "2024-06-13T22:26:02.680648",
     "status": "completed"
    },
    "tags": []
   },
   "outputs": [],
   "source": [
    "def train_model(model, criterion, optimizer, train_loader, val_loader, num_epochs=25):\n",
    "    train_loss_history = []\n",
    "    train_acc_history = []\n",
    "    val_loss_history = []\n",
    "    val_acc_history = []\n",
    "\n",
    "    for epoch in range(num_epochs):\n",
    "        model.train()\n",
    "        running_loss = 0.0\n",
    "        running_corrects = 0\n",
    "\n",
    "        for inputs, labels in train_loader:\n",
    "            inputs = inputs.to(device)\n",
    "            labels = labels.to(device)\n",
    "\n",
    "            optimizer.zero_grad()\n",
    "\n",
    "            outputs = model(inputs)\n",
    "            _, preds = torch.max(outputs, 1)\n",
    "            loss = criterion(outputs, labels)\n",
    "\n",
    "            loss.backward()\n",
    "            optimizer.step()\n",
    "\n",
    "            running_loss += loss.item() * inputs.size(0)\n",
    "            running_corrects += torch.sum(preds == labels.data)\n",
    "\n",
    "        epoch_loss = running_loss / len(train_loader.dataset)\n",
    "        epoch_acc = running_corrects.double() / len(train_loader.dataset)\n",
    "        train_loss_history.append(epoch_loss)\n",
    "        train_acc_history.append(epoch_acc.item())\n",
    "\n",
    "        # Validation phase\n",
    "        model.eval()\n",
    "        val_running_loss = 0.0\n",
    "        val_running_corrects = 0\n",
    "\n",
    "        with torch.no_grad():\n",
    "            for inputs, labels in val_loader:\n",
    "                inputs = inputs.to(device)\n",
    "                labels = labels.to(device)\n",
    "\n",
    "                outputs = model(inputs)\n",
    "                _, preds = torch.max(outputs, 1)\n",
    "                loss = criterion(outputs, labels)\n",
    "\n",
    "                val_running_loss += loss.item() * inputs.size(0)\n",
    "                val_running_corrects += torch.sum(preds == labels.data)\n",
    "\n",
    "        val_epoch_loss = val_running_loss / len(val_loader.dataset)\n",
    "        val_epoch_acc = val_running_corrects.double() / len(val_loader.dataset)\n",
    "        val_loss_history.append(val_epoch_loss)\n",
    "        val_acc_history.append(val_epoch_acc.item())\n",
    "\n",
    "        print(f'Epoch {epoch}/{num_epochs}, Loss: {epoch_loss:.4f}, Acc: {epoch_acc:.4f}, Val Loss: {val_epoch_loss:.4f}, Val Acc: {val_epoch_acc:.4f}')\n",
    "\n",
    "    return model, train_loss_history, train_acc_history, val_loss_history, val_acc_history"
   ]
  },
  {
   "cell_type": "code",
   "execution_count": 16,
   "id": "5498be4b",
   "metadata": {
    "execution": {
     "iopub.execute_input": "2024-06-13T22:26:02.724034Z",
     "iopub.status.busy": "2024-06-13T22:26:02.723589Z",
     "iopub.status.idle": "2024-06-13T22:46:54.326157Z",
     "shell.execute_reply": "2024-06-13T22:46:54.324720Z"
    },
    "papermill": {
     "duration": 1251.61497,
     "end_time": "2024-06-13T22:46:54.328439",
     "exception": false,
     "start_time": "2024-06-13T22:26:02.713469",
     "status": "completed"
    },
    "tags": []
   },
   "outputs": [
    {
     "name": "stderr",
     "output_type": "stream",
     "text": [
      "[h264 @ 0x5c1a0fee8780] mb_type 104 in P slice too large at 98 31\n",
      "[h264 @ 0x5c1a0fee8780] error while decoding MB 98 31\n"
     ]
    },
    {
     "name": "stdout",
     "output_type": "stream",
     "text": [
      "Epoch 0/10, Loss: 0.2971, Acc: 0.8850, Val Loss: 0.1743, Val Acc: 0.9333\n"
     ]
    },
    {
     "name": "stderr",
     "output_type": "stream",
     "text": [
      "[h264 @ 0x5c1a102b6900] mb_type 104 in P slice too large at 98 31\n",
      "[h264 @ 0x5c1a102b6900] error while decoding MB 98 31\n"
     ]
    },
    {
     "name": "stdout",
     "output_type": "stream",
     "text": [
      "Epoch 1/10, Loss: 0.1462, Acc: 0.9379, Val Loss: 0.1715, Val Acc: 0.9200\n"
     ]
    },
    {
     "name": "stderr",
     "output_type": "stream",
     "text": [
      "[h264 @ 0x5c1a10764140] mb_type 104 in P slice too large at 98 31\n",
      "[h264 @ 0x5c1a10764140] error while decoding MB 98 31\n"
     ]
    },
    {
     "name": "stdout",
     "output_type": "stream",
     "text": [
      "Epoch 2/10, Loss: 0.1135, Acc: 0.9557, Val Loss: 0.1058, Val Acc: 0.9567\n"
     ]
    },
    {
     "name": "stderr",
     "output_type": "stream",
     "text": [
      "[h264 @ 0x5c1a10707640] mb_type 104 in P slice too large at 98 31\n",
      "[h264 @ 0x5c1a10707640] error while decoding MB 98 31\n"
     ]
    },
    {
     "name": "stdout",
     "output_type": "stream",
     "text": [
      "Epoch 3/10, Loss: 0.0804, Acc: 0.9714, Val Loss: 0.1090, Val Acc: 0.9533\n"
     ]
    },
    {
     "name": "stderr",
     "output_type": "stream",
     "text": [
      "[h264 @ 0x5c1a111d65c0] mb_type 104 in P slice too large at 98 31\n",
      "[h264 @ 0x5c1a111d65c0] error while decoding MB 98 31\n"
     ]
    },
    {
     "name": "stdout",
     "output_type": "stream",
     "text": [
      "Epoch 4/10, Loss: 0.0577, Acc: 0.9779, Val Loss: 0.1151, Val Acc: 0.9500\n"
     ]
    },
    {
     "name": "stderr",
     "output_type": "stream",
     "text": [
      "[h264 @ 0x5c1a10e75080] mb_type 104 in P slice too large at 98 31\n",
      "[h264 @ 0x5c1a10e75080] error while decoding MB 98 31\n"
     ]
    },
    {
     "name": "stdout",
     "output_type": "stream",
     "text": [
      "Epoch 5/10, Loss: 0.0583, Acc: 0.9857, Val Loss: 0.0796, Val Acc: 0.9633\n"
     ]
    },
    {
     "name": "stderr",
     "output_type": "stream",
     "text": [
      "[h264 @ 0x5c1a105a8d00] mb_type 104 in P slice too large at 98 31\n",
      "[h264 @ 0x5c1a105a8d00] error while decoding MB 98 31\n"
     ]
    },
    {
     "name": "stdout",
     "output_type": "stream",
     "text": [
      "Epoch 6/10, Loss: 0.0362, Acc: 0.9871, Val Loss: 0.1128, Val Acc: 0.9500\n"
     ]
    },
    {
     "name": "stderr",
     "output_type": "stream",
     "text": [
      "[h264 @ 0x5c1a107283c0] mb_type 104 in P slice too large at 98 31\n",
      "[h264 @ 0x5c1a107283c0] error while decoding MB 98 31\n"
     ]
    },
    {
     "name": "stdout",
     "output_type": "stream",
     "text": [
      "Epoch 7/10, Loss: 0.0148, Acc: 0.9964, Val Loss: 0.0854, Val Acc: 0.9700\n"
     ]
    },
    {
     "name": "stderr",
     "output_type": "stream",
     "text": [
      "[h264 @ 0x5c1a10704dc0] mb_type 104 in P slice too large at 98 31\n",
      "[h264 @ 0x5c1a10704dc0] error while decoding MB 98 31\n"
     ]
    },
    {
     "name": "stdout",
     "output_type": "stream",
     "text": [
      "Epoch 8/10, Loss: 0.0334, Acc: 0.9886, Val Loss: 0.1081, Val Acc: 0.9533\n"
     ]
    },
    {
     "name": "stderr",
     "output_type": "stream",
     "text": [
      "[h264 @ 0x5c1a1036d280] mb_type 104 in P slice too large at 98 31\n",
      "[h264 @ 0x5c1a1036d280] error while decoding MB 98 31\n"
     ]
    },
    {
     "name": "stdout",
     "output_type": "stream",
     "text": [
      "Epoch 9/10, Loss: 0.0273, Acc: 0.9921, Val Loss: 0.1065, Val Acc: 0.9633\n"
     ]
    }
   ],
   "source": [
    "model, train_loss_history, train_acc_history, val_loss_history, val_acc_history = train_model(model, criterion, optimizer, train_loader, val_loader, epochs)"
   ]
  },
  {
   "cell_type": "markdown",
   "id": "54eaef11",
   "metadata": {
    "papermill": {
     "duration": 0.011052,
     "end_time": "2024-06-13T22:46:54.350146",
     "exception": false,
     "start_time": "2024-06-13T22:46:54.339094",
     "status": "completed"
    },
    "tags": []
   },
   "source": [
    "# Evaluate "
   ]
  },
  {
   "cell_type": "code",
   "execution_count": 17,
   "id": "76a0bc3d",
   "metadata": {
    "execution": {
     "iopub.execute_input": "2024-06-13T22:46:54.371845Z",
     "iopub.status.busy": "2024-06-13T22:46:54.371477Z",
     "iopub.status.idle": "2024-06-13T22:47:18.488419Z",
     "shell.execute_reply": "2024-06-13T22:47:18.487269Z"
    },
    "papermill": {
     "duration": 24.130546,
     "end_time": "2024-06-13T22:47:18.490592",
     "exception": false,
     "start_time": "2024-06-13T22:46:54.360046",
     "status": "completed"
    },
    "tags": []
   },
   "outputs": [
    {
     "name": "stdout",
     "output_type": "stream",
     "text": [
      "Test Accuracy: 0.9433\n"
     ]
    }
   ],
   "source": [
    "model.eval()\n",
    "test_corrects = 0\n",
    "\n",
    "with torch.no_grad():\n",
    "    for inputs, labels in test_loader:\n",
    "        inputs = inputs.to(device)\n",
    "        labels = labels.to(device)\n",
    "\n",
    "        outputs = model(inputs)\n",
    "        _, preds = torch.max(outputs, 1)\n",
    "        test_corrects += torch.sum(preds == labels.data)\n",
    "\n",
    "test_acc = test_corrects.double() / len(test_loader.dataset)\n",
    "print(f'Test Accuracy: {test_acc:.4f}')"
   ]
  },
  {
   "cell_type": "markdown",
   "id": "64a95055",
   "metadata": {
    "papermill": {
     "duration": 0.010116,
     "end_time": "2024-06-13T22:47:18.511290",
     "exception": false,
     "start_time": "2024-06-13T22:47:18.501174",
     "status": "completed"
    },
    "tags": []
   },
   "source": [
    "# Plotting"
   ]
  },
  {
   "cell_type": "code",
   "execution_count": 18,
   "id": "3284379e",
   "metadata": {
    "execution": {
     "iopub.execute_input": "2024-06-13T22:47:18.533651Z",
     "iopub.status.busy": "2024-06-13T22:47:18.533313Z",
     "iopub.status.idle": "2024-06-13T22:47:19.132656Z",
     "shell.execute_reply": "2024-06-13T22:47:19.131746Z"
    },
    "papermill": {
     "duration": 0.613452,
     "end_time": "2024-06-13T22:47:19.135082",
     "exception": false,
     "start_time": "2024-06-13T22:47:18.521630",
     "status": "completed"
    },
    "tags": []
   },
   "outputs": [
    {
     "data": {
      "image/png": "[encoded data removed]",
      "text/plain": [
       "<Figure size 1200x400 with 2 Axes>"
      ]
     },
     "metadata": {},
     "output_type": "display_data"
    }
   ],
   "source": [
    "epochs_range = range(epochs)\n",
    "\n",
    "plt.figure(figsize=(12, 4))\n",
    "plt.subplot(1, 2, 1)\n",
    "plt.plot(epochs_range, train_loss_history, label='Train Loss')\n",
    "plt.plot(epochs_range, val_loss_history, label='Val Loss')\n",
    "plt.xlabel('Epochs')\n",
    "plt.ylabel('Loss')\n",
    "plt.legend(loc='upper right')\n",
    "plt.title('Training and Validation Loss')\n",
    "\n",
    "plt.subplot(1, 2, 2)\n",
    "plt.plot(epochs_range, train_acc_history, label='Train Accuracy')\n",
    "plt.plot(epochs_range, val_acc_history, label='Val Accuracy')\n",
    "plt.xlabel('Epochs')\n",
    "plt.ylabel('Accuracy')\n",
    "plt.legend(loc='lower right')\n",
    "plt.title('Training and Validation Accuracy')\n",
    "\n",
    "plt.show()"
   ]
  }
 ],
 "metadata": {
  "kaggle": {
   "accelerator": "nvidiaTeslaT4",
   "dataSources": [
    {
     "datasetId": 176381,
     "sourceId": 397693,
     "sourceType": "datasetVersion"
    }
   ],
   "dockerImageVersionId": 30733,
   "isGpuEnabled": true,
   "isInternetEnabled": true,
   "language": "python",
   "sourceType": "notebook"
  },
  "kernelspec": {
   "display_name": "Python 3",
   "language": "python",
   "name": "python3"
  },
  "language_info": {
   "codemirror_mode": {
    "name": "ipython",
    "version": 3
   },
   "file_extension": ".py",
   "mimetype": "text/x-python",
   "name": "python",
   "nbconvert_exporter": "python",
   "pygments_lexer": "ipython3",
   "version": "3.10.13"
  },
  "papermill": {
   "default_parameters": {},
   "duration": 1297.886487,
   "end_time": "2024-06-13T22:47:21.772766",
   "environment_variables": {},
   "exception": null,
   "input_path": "__notebook__.ipynb",
   "output_path": "__notebook__.ipynb",
   "parameters": {},
   "start_time": "2024-06-13T22:25:43.886279",
   "version": "2.5.0"
  }
 },
 "nbformat": 4,
 "nbformat_minor": 5
}
